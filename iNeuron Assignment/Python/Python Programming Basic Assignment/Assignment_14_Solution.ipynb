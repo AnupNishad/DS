{
  "metadata": {
    "language_info": {
      "codemirror_mode": {
        "name": "python",
        "version": 3
      },
      "file_extension": ".py",
      "mimetype": "text/x-python",
      "name": "python",
      "nbconvert_exporter": "python",
      "pygments_lexer": "ipython3",
      "version": "3.8"
    },
    "kernelspec": {
      "name": "python",
      "display_name": "Pyolite",
      "language": "python"
    }
  },
  "nbformat_minor": 4,
  "nbformat": 4,
  "cells": [
    {
      "cell_type": "markdown",
      "source": "Q.1 : Define a class with a generator which can iterate the numbers, which are divisible by\n7, between a given range 0 and n.",
      "metadata": {}
    },
    {
      "cell_type": "code",
      "source": "#Solution 1\n\nclass GeneratorDivisibleBy7:\n    def __init__(self,Num):\n        self.Num = Num\n    def GetNumberDivBy7(self):\n        for i in range(0,self.Num+1):\n            if i%7 == 0:\n                yield i\n\ntry:\n    Result = GeneratorDivisibleBy7(100)\n    for i in Result.GetNumberDivBy7():\n        print(i,end=' ')\n        \nexcept Exception as e:\n        print('Error Occured : ',e)",
      "metadata": {
        "trusted": true
      },
      "execution_count": 1,
      "outputs": [
        {
          "name": "stdout",
          "text": "0 7 14 21 28 35 42 49 56 63 70 77 84 91 98 ",
          "output_type": "stream"
        }
      ]
    },
    {
      "cell_type": "markdown",
      "source": "Q.2 : Write a program to compute the frequency of the words from the input. The output should output after sorting the key alphanumerically.\nSuppose the following input is supplied to the program:\nNew to Python or choosing between Python 2 and Python 3? Read Python 2 or Python 3.\nThen, the output should be:\n2:2 3.:1 3?:1 New:1 Python:5 Read:1 and:1 between:1 choosing:1 or:2 to:1",
      "metadata": {}
    },
    {
      "cell_type": "code",
      "source": "#Solution 2\n\ndef CountWordFrequency(Sentence):\n    '''\n        This function will take the string as input & compute the each word frequency from the sentence.\n    '''\n    try:\n        #Sentence = input(\"Enter the Input : \")\n        Result = []\n        for i in sorted(Sentence.split()):\n            Count = 0\n            for j in sorted(Sentence.split()):\n                if i == j:\n                    Count = Count+1\n            if i not in Result:\n                Result.append(i+\":\"+str(Count))\n\n        \n        print(f'CountWordFrequency({Sentence}) ➞ {\" \".join(sorted(list(set(Result))))}')\n        \n    except Exception as e:\n        print('Error Occured : ',e)\n        \nCountWordFrequency(\"New to Python or choosing between Python 2 and Python 3? Read Python 2 or Python 3.\")",
      "metadata": {
        "trusted": true
      },
      "execution_count": 2,
      "outputs": [
        {
          "name": "stdout",
          "text": "CountWordFrequency(New to Python or choosing between Python 2 and Python 3? Read Python 2 or Python 3.) ➞ 2:2 3.:1 3?:1 New:1 Python:5 Read:1 and:1 between:1 choosing:1 or:2 to:1\n",
          "output_type": "stream"
        }
      ]
    },
    {
      "cell_type": "markdown",
      "source": "Q.3 : Define a class Person and its two child classes: Male and Female. All classes have a method \"getGender\" which can print \"Male\" for Male class and \"Female\" for Female class. ?",
      "metadata": {}
    },
    {
      "cell_type": "code",
      "source": "#Solution 3\n\nclass Person:\n    def getGender():\n        pass\n                \nclass Male(Person):\n    def getGender():\n        print(\"Male\")\n        \nclass Female(Person):\n    def getGender():\n        print(\"Female\")\n\ntry:\n    Male.getGender()\n    Female.getGender()\n        \nexcept Exception as e:\n        print('Error Occured : ',e)",
      "metadata": {
        "trusted": true
      },
      "execution_count": 3,
      "outputs": [
        {
          "name": "stdout",
          "text": "Male\nFemale\n",
          "output_type": "stream"
        }
      ]
    },
    {
      "cell_type": "markdown",
      "source": "Q.4 : Please write a program to generate all sentences where subject is in [\"I\", \"You\"] and verb is in [\"Play\", \"Love\"] and the object is in [\"Hockey\",\"Football\"] ?",
      "metadata": {}
    },
    {
      "cell_type": "code",
      "source": "#Solution 4\n\ndef GenerateAllSenetences(SubjectList,VerbList,ObjectList):\n    '''\n        This function will take the lists as input & frame all possible sentences with the help of given subject,verb & object.\n    '''\n    try:\n        print(f'GenerateAllSenetences{SubjectList,VerbList,ObjectList} ➞')\n        for i in SubjectList:\n            for j in VerbList:\n                for k in ObjectList:\n                    print(f'{i} {j} {k}')\n        \n    except Exception as e:\n        print('Error Occured : ',e)\n        \nGenerateAllSenetences([\"I\", \"You\"],[\"Play\", \"Love\"],[\"Hockey\",\"Football\"])",
      "metadata": {
        "trusted": true
      },
      "execution_count": 4,
      "outputs": [
        {
          "name": "stdout",
          "text": "GenerateAllSenetences(['I', 'You'], ['Play', 'Love'], ['Hockey', 'Football']) ➞\nI Play Hockey\nI Play Football\nI Love Hockey\nI Love Football\nYou Play Hockey\nYou Play Football\nYou Love Hockey\nYou Love Football\n",
          "output_type": "stream"
        }
      ]
    },
    {
      "cell_type": "markdown",
      "source": "Q.5 : Please write a program to compress and decompress the string \"hello world!hello world!hello world!hello world!\" ?",
      "metadata": {}
    },
    {
      "cell_type": "code",
      "source": "#Solution 5\n\nimport gzip\ndef CompressDecompressString(String):\n    '''\n        This function will take the string as input & returns the after compress and decompress.\n    '''\n    try:\n        String = gzip.compress(String)\n        Decompressed = gzip.decompress(String)\n        \n        print(f'Compressed String : {String} \\n Decompressed String : {Decompressed}')\n        \n    except Exception as e:\n        print('Error Occured : ',e)\n        \nCompressDecompressString(b'hello world!hello world!hello world!hello world!')",
      "metadata": {
        "trusted": true
      },
      "execution_count": 5,
      "outputs": [
        {
          "name": "stdout",
          "text": "Compressed String : b'\\x1f\\x8b\\x08\\x00@pIb\\x02\\xff\\xcbH\\xcd\\xc9\\xc9W(\\xcf/\\xcaIQ\\xcc \\x82\\r\\x00\\xd3\\xe6\\xcf\\xae0\\x00\\x00\\x00' \n Decompressed String : b'hello world!hello world!hello world!hello world!'\n",
          "output_type": "stream"
        }
      ]
    },
    {
      "cell_type": "markdown",
      "source": "Q.6 : Please write a binary search function which searches an item in a sorted list. The\nfunction should return the index of element to be searched in the list.",
      "metadata": {}
    },
    {
      "cell_type": "code",
      "source": "#Solution 6\n\ndef BinarySearch(List,ItemToSearch):\n    '''\n        This function will take the 2 input(List,Int/Str) & returns the index of the item which is to be search.\n    '''\n    try:\n        Low = 0\n        High = len(List)-1\n        while Low <= High:\n            MidIndex = High+Low//2\n            if List[MidIndex] < ItemToSearch:\n                Low = MidIndex+1\n            elif List[MidIndex] > ItemToSearch:\n                High = MidIndex-1\n            else:\n                return MidIndex\n        else:\n            return 'Element not found in the list'\n        \n    except Exception as e:\n        print('Error Occured : ',e)\n        \nprint(f'BinarySearch([1,2,3,4,5],3) ➞ {BinarySearch([1,2,3,4,5],3)}')\nprint(f'BinarySearch([1,2,3,4,5],8) ➞ {BinarySearch([1,2,3,4,5],8)}')",
      "metadata": {
        "trusted": true
      },
      "execution_count": 6,
      "outputs": [
        {
          "name": "stdout",
          "text": "BinarySearch([1,2,3,4,5],3) ➞ 2\nBinarySearch([1,2,3,4,5],8) ➞ Element not found in the list\n",
          "output_type": "stream"
        }
      ]
    },
    {
      "cell_type": "code",
      "source": "",
      "metadata": {},
      "execution_count": null,
      "outputs": []
    }
  ]
}