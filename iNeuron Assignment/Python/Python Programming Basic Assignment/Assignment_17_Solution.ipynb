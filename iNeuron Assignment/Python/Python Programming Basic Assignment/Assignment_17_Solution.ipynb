{
  "metadata": {
    "language_info": {
      "codemirror_mode": {
        "name": "python",
        "version": 3
      },
      "file_extension": ".py",
      "mimetype": "text/x-python",
      "name": "python",
      "nbconvert_exporter": "python",
      "pygments_lexer": "ipython3",
      "version": "3.8"
    },
    "kernelspec": {
      "name": "python",
      "display_name": "Pyolite",
      "language": "python"
    }
  },
  "nbformat_minor": 4,
  "nbformat": 4,
  "cells": [
    {
      "cell_type": "markdown",
      "source": "Q.1 : Create a function that takes three arguments a, b, c and returns the sum of the numbers that are evenly divided by c from the range a, b inclusive ?\nExamples:\nevenly_divisible(1, 10, 20) ➞ 0\n\nNo number between 1 and 10 can be evenly divided by 20.\nevenly_divisible(1, 10, 2) ➞ 30\n\n-->2 + 4 + 6 + 8 + 10 = 30\nevenly_divisible(1, 10, 3) ➞ 18\n\n-->3 + 6 + 9 = 18",
      "metadata": {}
    },
    {
      "cell_type": "code",
      "source": "#Solution 1\n\ndef evenly_divisible(a,b,c):\n    \n    '''\n        This function takes three arguments a, b, c and returns the sum of the numbers that are evenly divided by c \n        from the range a, b inclusive.\n    '''\n    \n    try:\n        Sum = 0\n        for i in range(a,b+1):\n            if i%c == 0:\n                Sum = Sum+i\n                \n        print(f'evenly_divisible{a,b,c} ➞ {Sum}')\n            \n    except Exception as e:\n        print('Error Occured : ',e)\n    \nevenly_divisible(1, 10, 20)    \nevenly_divisible(1, 10, 2) \nevenly_divisible(1, 10, 3)",
      "metadata": {
        "trusted": true
      },
      "execution_count": 1,
      "outputs": [
        {
          "name": "stdout",
          "text": "evenly_divisible(1, 10, 20) ➞ 0\nevenly_divisible(1, 10, 2) ➞ 30\nevenly_divisible(1, 10, 3) ➞ 18\n",
          "output_type": "stream"
        }
      ]
    },
    {
      "cell_type": "markdown",
      "source": "\n\n\n\nQ.2 : Create a function that returns True if a given inequality expression is correct and False otherwise ?\nExamples:\ncorrect_signs(\"3 < 7 < 11\") ➞ True\ncorrect_signs(\"13 > 44 > 33 > 1\") ➞ False\ncorrect_signs(\"1 < 2 < 6 < 9 > 3\") ➞ True",
      "metadata": {}
    },
    {
      "cell_type": "code",
      "source": "#Solution 2\n\ndef correct_signs(Expression):\n    \n    '''\n        This function takes one string input and returns True if a given inequality expression is correct and False otherwise.\n    '''\n    \n    try:\n        Result = False\n        if eval(Expression) == True:\n            Result = True\n                \n        print(f'correct_signs({Expression}) ➞ {Result}')\n            \n    except Exception as e:\n        print('Error Occured : ',e)\n    \ncorrect_signs(\"3 < 7 < 11\")\ncorrect_signs(\"13 > 44 > 33 > 1\")\ncorrect_signs(\"1 < 2 < 6 < 9 > 3\")",
      "metadata": {
        "trusted": true
      },
      "execution_count": 2,
      "outputs": [
        {
          "name": "stdout",
          "text": "correct_signs(3 < 7 < 11) ➞ True\ncorrect_signs(13 > 44 > 33 > 1) ➞ False\ncorrect_signs(1 < 2 < 6 < 9 > 3) ➞ True\n",
          "output_type": "stream"
        }
      ]
    },
    {
      "cell_type": "markdown",
      "source": "\n\n\n\nQ.3 : Create a function that replaces all the vowels in a string with a specified character ?\nExamples:\nreplace_vowels(\"the aardvark\", \"#\") ➞ \"th# ##rdv#rk\"\nreplace_vowels(\"minnie mouse\", \"?\") ➞ \"m?nn?? m??s?\"\nreplace_vowels(\"shakespeare\", \"*\") ➞ \"shksp**r\"",
      "metadata": {}
    },
    {
      "cell_type": "code",
      "source": "#Solution 3\n\ndef replace_vowels(String,ReplaceVowelWith):\n    \n    '''\n        This function takes two string input and replaces all the vowels in a string with a specified character.\n    '''\n    \n    try:\n        Vowels = \"aeiou\"\n        ReplacedString = String\n        for i in String:\n            if i in Vowels:\n                ReplacedString = ReplacedString.replace(i,ReplaceVowelWith)\n                \n        print(f'replace_vowels{String,ReplaceVowelWith} ➞ {ReplacedString}')\n            \n    except Exception as e:\n        print('Error Occured : ',e)\n    \nreplace_vowels(\"the aardvark\", \"#\")\nreplace_vowels(\"minnie mouse\", \"?\")\nreplace_vowels(\"shakespeare\", \"*\")",
      "metadata": {
        "trusted": true
      },
      "execution_count": 3,
      "outputs": [
        {
          "name": "stdout",
          "text": "replace_vowels('the aardvark', '#') ➞ th# ##rdv#rk\nreplace_vowels('minnie mouse', '?') ➞ m?nn?? m??s?\nreplace_vowels('shakespeare', '*') ➞ sh*k*sp**r*\n",
          "output_type": "stream"
        }
      ]
    },
    {
      "cell_type": "code",
      "source": "\n\n\n\nQ.4 : Write a function that calculates the factorial of a number recursively ?\nExamples:\nfactorial(5) ➞ 120\nfactorial(3) ➞ 6\nfactorial(1) ➞ 1\nfactorial(0) ➞ 1",
      "metadata": {},
      "execution_count": null,
      "outputs": []
    },
    {
      "cell_type": "code",
      "source": "#Solution 4\n\ndef factorial(FactNum):\n    \n    '''\n        This function takes one integer input and it calculates the factorial of a number recursively.\n    '''\n    \n    try:\n        Factorial = 0\n        if FactNum == 0:\n            return 1\n        return FactNum * factorial(FactNum-1)\n            \n    except Exception as e:\n        print('Error Occured : ',e)\n    \nprint(f'factorial(5) ➞ {factorial(5)}')\nprint(f'factorial(3) ➞ {factorial(3)}')\nprint(f'factorial(1) ➞ {factorial(1)}')\nprint(f'factorial(0) ➞ {factorial(0)}')",
      "metadata": {
        "trusted": true
      },
      "execution_count": 4,
      "outputs": [
        {
          "name": "stdout",
          "text": "factorial(5) ➞ 120\nfactorial(3) ➞ 6\nfactorial(1) ➞ 1\nfactorial(0) ➞ 1\n",
          "output_type": "stream"
        }
      ]
    },
    {
      "cell_type": "markdown",
      "source": "\n\n\n\nQ.5 : Hamming distance is the number of characters that differ between two strings ?\nTo illustrate:\nString1: \"abcbba\"\nString2: \"abcbda\"\nHamming Distance: 1 - \"b\" vs. \"d\" is the only difference.\nCreate a function that computes the hamming distance between two strings.\nExamples:\nhamming_distance(\"abcde\", \"bcdef\") ➞ 5\nhamming_distance(\"abcde\", \"abcde\") ➞ 0\nhamming_distance(\"strong\", \"strung\") ➞ 1",
      "metadata": {}
    },
    {
      "cell_type": "code",
      "source": "#Solution 5\n\ndef hamming_distance(String1,String2):\n    \n    '''\n        This function takes two string input and calculates hamming distance between two strings.\n    '''\n    \n    try:\n        Count = 0\n        for i in range(len(String1)):\n            if String1[i] != String2[i]:\n                Count = Count+1\n                \n        print(f'hamming_distance{String1,String2} ➞ {Count}')\n            \n    except Exception as e:\n        print('Error Occured : ',e)\n    \nhamming_distance(\"abcde\", \"bcdef\")\nhamming_distance(\"abcde\", \"abcde\")\nhamming_distance(\"strong\", \"strung\")",
      "metadata": {
        "trusted": true
      },
      "execution_count": 5,
      "outputs": [
        {
          "name": "stdout",
          "text": "hamming_distance('abcde', 'bcdef') ➞ 5\nhamming_distance('abcde', 'abcde') ➞ 0\nhamming_distance('strong', 'strung') ➞ 1\n",
          "output_type": "stream"
        }
      ]
    },
    {
      "cell_type": "code",
      "source": "",
      "metadata": {},
      "execution_count": null,
      "outputs": []
    }
  ]
}