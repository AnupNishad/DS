{
  "metadata": {
    "language_info": {
      "codemirror_mode": {
        "name": "python",
        "version": 3
      },
      "file_extension": ".py",
      "mimetype": "text/x-python",
      "name": "python",
      "nbconvert_exporter": "python",
      "pygments_lexer": "ipython3",
      "version": "3.8"
    },
    "kernelspec": {
      "name": "python",
      "display_name": "Pyolite",
      "language": "python"
    }
  },
  "nbformat_minor": 4,
  "nbformat": 4,
  "cells": [
    {
      "cell_type": "code",
      "source": "Q.1 : Create a function that takes three parameters where:\nx is the start of the range (inclusive).\ny is the end of the range (inclusive).\nn is the divisor to be checked against.\n\nReturn an ordered list with numbers in the range that are divisible by the third parameter n. Return an empty list if there are no numbers that are divisible by n. Examples:\nlist_operation(1, 10, 3) ➞ [3, 6, 9]\nlist_operation(7, 9, 2) ➞ [8]\nlist_operation(15, 20, 7) ➞ []",
      "metadata": {},
      "execution_count": null,
      "outputs": []
    },
    {
      "cell_type": "code",
      "source": "#Solution 1\n\ndef list_operation(Start,End,DivBy):\n    \n    '''\n        This function takes three parameters & return an ordered list with numbers in the range that are divisible by the third parameter n. \n        Return an empty list if there are no numbers that are divisible by n\n    '''\n    \n    try:\n        Result = []\n        for i in range(Start,End+1):\n            if i%DivBy == 0:\n                Result.append(i)\n        \n        print(f'list_operation{Start,End,DivBy} ➞ {Result}')\n            \n    except Exception as e:\n        print('Error Occured : ',e)\n\nlist_operation(1, 10, 3)\nlist_operation(7, 9, 2)\nlist_operation(15, 20, 7)",
      "metadata": {
        "trusted": true
      },
      "execution_count": 1,
      "outputs": [
        {
          "name": "stdout",
          "text": "list_operation(1, 10, 3) ➞ [3, 6, 9]\nlist_operation(7, 9, 2) ➞ [8]\nlist_operation(15, 20, 7) ➞ []\n",
          "output_type": "stream"
        }
      ]
    },
    {
      "cell_type": "code",
      "source": "Q.2 : Create a function that takes in two lists and returns True if the second list follows the first list by one element, and False otherwise. In other words, determine if the second list is the first list shifted to the right by 1.\nExamples:\nsimon_says([1, 2], [5, 1]) ➞ True\nsimon_says([1, 2], [5, 5]) ➞ False\nsimon_says([1, 2, 3, 4, 5], [0, 1, 2, 3, 4]) ➞ True\nsimon_says([1, 2, 3, 4, 5], [5, 5, 1, 2, 3]) ➞ False\n\nNotes:\n\n1. Both input lists will be of the same length, and will have a minimum length of 2.  \n2. The values of the 0-indexed element in the second list and the n-1th indexed element in the first list do not matter",
      "metadata": {},
      "execution_count": null,
      "outputs": []
    },
    {
      "cell_type": "code",
      "source": "#Solution 2\n\ndef simon_says(List1,List2):\n    \n    '''\n        This function takes in two lists and returns True if the second list follows the first list by one element, and False otherwise. In other words, \n        determine if the second list is the first list shifted to the right by 1.\n    '''\n    \n    try:\n        Result = True\n        for i in range(len(List1)-1):\n            if List1[i] != List2[i+1]:\n                Result = False\n                break\n        \n        print(f'simon_says{List1,List2} ➞ {Result}')\n            \n    except Exception as e:\n        print('Error Occured : ',e)\n\nsimon_says([1, 2], [5, 1])\nsimon_says([1, 2], [5, 5])\nsimon_says([1, 2, 3, 4, 5], [0, 1, 2, 3, 4])\nsimon_says([1, 2, 3, 4, 5], [5, 5, 1, 2, 3])",
      "metadata": {
        "trusted": true
      },
      "execution_count": 2,
      "outputs": [
        {
          "name": "stdout",
          "text": "simon_says([1, 2], [5, 1]) ➞ True\nsimon_says([1, 2], [5, 5]) ➞ False\nsimon_says([1, 2, 3, 4, 5], [0, 1, 2, 3, 4]) ➞ True\nsimon_says([1, 2, 3, 4, 5], [5, 5, 1, 2, 3]) ➞ False\n",
          "output_type": "stream"
        }
      ]
    },
    {
      "cell_type": "code",
      "source": "Q.3 : A group of friends have decided to start a secret society. The name will be the first letter of each of their names, sorted in a alphabetical order ? Create a function that takes in a list of names and returns the name of the secret society ?\nExamples:\nsociety_name([\"Adam\", \"Sarah\", \"Malcolm\"]) ➞ \"AMS\"\nsociety_name([\"Harry\", \"Newt\", \"Luna\", \"Cho\"]) ➞ \"CHLN\"\nsociety_name([\"Phoebe\", \"Chandler\", \"Rachel\", \"Ross\", \"Monica\", \"Joey\"])",
      "metadata": {},
      "execution_count": null,
      "outputs": []
    },
    {
      "cell_type": "code",
      "source": "#Solution 3\n\ndef society_name(List):\n    \n    '''\n        This function takes in a list of names and returns the name of the secret society.\n    '''\n    \n    try:\n        SecretName = \"\"\n        for i in List:\n            SecretName = SecretName+i[0]\n        \n        print(f'society_name({List}) ➞ {str(\"\".join(sorted(SecretName)))}')\n            \n    except Exception as e:\n        print('Error Occured : ',e)\n\nsociety_name([\"Adam\", \"Sarah\", \"Malcolm\"])\nsociety_name([\"Harry\", \"Newt\", \"Luna\", \"Cho\"])\nsociety_name([\"Phoebe\", \"Chandler\", \"Rachel\", \"Ross\", \"Monica\", \"Joey\"])",
      "metadata": {
        "trusted": true
      },
      "execution_count": 3,
      "outputs": [
        {
          "name": "stdout",
          "text": "society_name(['Adam', 'Sarah', 'Malcolm']) ➞ AMS\nsociety_name(['Harry', 'Newt', 'Luna', 'Cho']) ➞ CHLN\nsociety_name(['Phoebe', 'Chandler', 'Rachel', 'Ross', 'Monica', 'Joey']) ➞ CJMPRR\n",
          "output_type": "stream"
        }
      ]
    },
    {
      "cell_type": "code",
      "source": "Q.4 : An isogram is a word that has no duplicate letters. Create a function that takes a string and returns either True or False depending on whether or not it's an \"isogram\".\nExamples:\nis_isogram(\"Algorism\") ➞ True\nis_isogram(\"PasSword\") ➞ False\n\n# Not case sensitive.   \nis_isogram(\"Consecutive\") ➞ False\n\nNotes:\nIgnore letter case (should not be case sensitive).\nAll test cases contain valid one word strings.",
      "metadata": {},
      "execution_count": null,
      "outputs": []
    },
    {
      "cell_type": "code",
      "source": "#Solution 4\n\ndef is_isogram(String):\n    \n    '''\n        This function takes a string and returns either True or False depending on whether or not it's an \"isogram\".\n    '''\n    \n    try:\n        Result = False\n        LowerString = String.lower()\n        if len(LowerString) == len(set(LowerString)):\n            Result = True\n        \n        print(f'is_isogram({String}) ➞ { Result}')\n            \n    except Exception as e:\n        print('Error Occured : ',e)\n\nis_isogram(\"Algorism\")\nis_isogram(\"PasSword\")\nis_isogram(\"Consecutive\")",
      "metadata": {
        "trusted": true
      },
      "execution_count": 4,
      "outputs": [
        {
          "name": "stdout",
          "text": "is_isogram(Algorism) ➞ True\nis_isogram(PasSword) ➞ False\nis_isogram(Consecutive) ➞ False\n",
          "output_type": "stream"
        }
      ]
    },
    {
      "cell_type": "code",
      "source": "Q.5 : Create a function that takes a string and returns True or False, depending on whether the characters are in order or not ?\nExamples:\nis_in_order(\"abc\") ➞ True\nis_in_order(\"edabit\") ➞ False\nis_in_order(\"123\") ➞ True\nis_in_order(\"xyzz\") ➞ True\n\nNotes:\nYou don't have to handle empty strings",
      "metadata": {},
      "execution_count": null,
      "outputs": []
    },
    {
      "cell_type": "code",
      "source": "#Solution 5\n\ndef is_in_order(String): \n    \n    '''\n        This function takes a string and returns True or False, depending on whether the characters are in order or not.\n    '''\n    \n    try:\n        Result = False\n        if \"\".join(sorted(String)) == String:\n            Result = True\n        \n        print(f'is_in_order({String}) ➞ {Result}')\n            \n    except Exception as e:\n        print('Error Occured : ',e)\n\nis_in_order(\"abc\")\nis_in_order(\"edabit\")\nis_in_order(\"123\")\nis_in_order(\"xyzz\")",
      "metadata": {
        "trusted": true
      },
      "execution_count": 5,
      "outputs": [
        {
          "name": "stdout",
          "text": "is_in_order(abc) ➞ True\nis_in_order(edabit) ➞ False\nis_in_order(123) ➞ True\nis_in_order(xyzz) ➞ True\n",
          "output_type": "stream"
        }
      ]
    },
    {
      "cell_type": "code",
      "source": "",
      "metadata": {},
      "execution_count": null,
      "outputs": []
    }
  ]
}