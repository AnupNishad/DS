{
  "metadata": {
    "language_info": {
      "codemirror_mode": {
        "name": "python",
        "version": 3
      },
      "file_extension": ".py",
      "mimetype": "text/x-python",
      "name": "python",
      "nbconvert_exporter": "python",
      "pygments_lexer": "ipython3",
      "version": "3.8"
    },
    "kernelspec": {
      "name": "python",
      "display_name": "Pyolite",
      "language": "python"
    }
  },
  "nbformat_minor": 4,
  "nbformat": 4,
  "cells": [
    {
      "cell_type": "code",
      "source": "Q.1 : Create a function that takes an integer and returns a list from 1 to the given number, where:\n1.If the number can be divided evenly by 4, amplify it by 10 (i.e. return 10 times the number).\n2.If the number cannot be divided evenly by 4, simply return the number.\n\nExamples:\namplify(4) ➞ [1, 2, 3, 40]\namplify(3) ➞ [1, 2, 3]\namplify(25) ➞ [1, 2, 3, 40, 5, 6, 7, 80, 9, 10, 11, 120, 13, 14, 15, 160, 17, 18, 19, 200, 21, 22, 23, 240, 25]\n\nNotes:\n1.The given integer will always be equal to or greater than 1.\n2.Include the number (see example above).\n3.To perform this problem with its intended purpose, try doing it with list",
      "metadata": {},
      "execution_count": null,
      "outputs": []
    },
    {
      "cell_type": "code",
      "source": "#Solution 1\n\ndef amplify(Num):\n    '''\n        This function takes an integer and returns a list from 1 to the given number, where:\n        1.If the number can be divided evenly by 4, amplify it by 10 (i.e. return 10 times the number).\n        2.If the number cannot be divided evenly by 4, simply return the number\n    '''\n    try:\n        Result = []\n        for i in range(1,Num+1):\n            Result.append(i*10) if i%4 == 0 else Result.append(i)\n                \n        print(f'amplify({Num}) ➞ {Result}')\n        \n    except Exception as e:\n        print('Error Occured : ',e)\n        \namplify(4)\namplify(3)\namplify(25)",
      "metadata": {
        "trusted": true
      },
      "execution_count": 1,
      "outputs": [
        {
          "name": "stdout",
          "text": "amplify(4) ➞ [1, 2, 3, 40]\namplify(3) ➞ [1, 2, 3]\namplify(25) ➞ [1, 2, 3, 40, 5, 6, 7, 80, 9, 10, 11, 120, 13, 14, 15, 160, 17, 18, 19, 200, 21, 22, 23, 240, 25]\n",
          "output_type": "stream"
        }
      ]
    },
    {
      "cell_type": "code",
      "source": "Q.2 : Create a function that takes a list of numbers and return the number that's unique.\nExamples:\nunique([3, 3, 3, 7, 3, 3]) ➞ 7\nunique([0, 0, 0.77, 0, 0]) ➞ 0.77\nunique([0, 1, 1, 1, 1, 1, 1, 1]) ➞ 0\n\nNotes:\nTest cases will always have exactly one unique number while all others are the same.",
      "metadata": {},
      "execution_count": null,
      "outputs": []
    },
    {
      "cell_type": "code",
      "source": "#Solution 2\n\ndef unique(List):\n    '''\n        This function takes a list of numbers and return the number that's unique.\n    '''\n    try:\n        for i in List:\n            if List.count(i) == 1:\n                print(f'unique({List}) ➞ {i}')\n                break\n        \n    except Exception as e:\n        print('Error Occured : ',e)\n        \nunique([3, 3, 3, 7, 3, 3])\nunique([0, 0, 0.77, 0, 0])\nunique([0, 1, 1, 1, 1, 1, 1, 1])",
      "metadata": {
        "trusted": true
      },
      "execution_count": 2,
      "outputs": [
        {
          "name": "stdout",
          "text": "unique([3, 3, 3, 7, 3, 3]) ➞ 7\nunique([0, 0, 0.77, 0, 0]) ➞ 0.77\nunique([0, 1, 1, 1, 1, 1, 1, 1]) ➞ 0\n",
          "output_type": "stream"
        }
      ]
    },
    {
      "cell_type": "code",
      "source": "Q.3 : Your task is to create a Circle constructor that creates a circle with a radius provided by an argument. The circles constructed must have two getters getArea() (PIr^2) and getPerimeter() (2PI*r) which give both respective areas and perimeter (circumference). For help with this class, I have provided you with a Rectangle constructor which you can use as a base example ?\nExamples:\ncircy = Circle(11)\ncircy.getArea()\n\n# Should return 380.132711084365\ncircy = Circle(4.44)\ncircy.getPerimeter()\n\n# Should return 27.897342763877365\n\nNotes:\nRound results up to the nearest integer.",
      "metadata": {},
      "execution_count": null,
      "outputs": []
    },
    {
      "cell_type": "code",
      "source": "#Solution 3\n\nimport math\nclass Circle:\n    \n    def __init__(self,Radius):\n        self.Radius = Radius\n            \n    def getArea(self):\n        print(f'circy.getArea() with Radius {self.Radius} ➞ {round(math.pi*pow(self.Radius,2))}')\n    \n    def getPerimeter(self):\n        print(f'circy.getPerimeter() with Radius {self.Radius} ➞ {round(2*math.pi*self.Radius)}')\n\ntry:\n    circy = Circle(11)\n    circy.getArea()\n    \n    circy = Circle(4.44)\n    circy.getPerimeter()\n              \nexcept Exception as e:\n    print('Error Occured : ',e)",
      "metadata": {
        "trusted": true
      },
      "execution_count": 3,
      "outputs": [
        {
          "name": "stdout",
          "text": "circy.getArea() with Radius 11 ➞ 380\ncircy.getPerimeter() with Radius 4.44 ➞ 28\n",
          "output_type": "stream"
        }
      ]
    },
    {
      "cell_type": "code",
      "source": "Q.4 : Create a function that takes a list of strings and return a list, sorted from shortest to longest.\nExamples:\nsort_by_length([\"Google\", \"Apple\", \"Microsoft\"])\n➞ [\"Apple\", \"Google\", \"Microsoft\"]\nsort_by_length([\"Leonardo\", \"Michelangelo\", \"Raphael\", \"Donatello\"])\n➞ [\"Raphael\", \"Leonardo\", \"Donatello\", \"Michelangelo\"]\nsort_by_length([\"Turing\", \"Einstein\", \"Jung\"])\n➞ [\"Jung\", \"Turing\", \"Einstein\"]\n\nNotes:\nAll test cases contain lists with strings of different lengths, so you won't have to deal with multiple strings of the same length.",
      "metadata": {},
      "execution_count": null,
      "outputs": []
    },
    {
      "cell_type": "code",
      "source": "#Solution 4\n\ndef sort_by_length(List):\n    '''\n        This function takes a list of strings and return a list, sorted from shortest to longest.\n    '''\n    try:\n        \n        print(f'sort_by_length({List}) ➞ {sorted(List,key = len)}')\n        \n    except Exception as e:\n        print('Error Occured : ',e)\n        \nsort_by_length([\"Google\", \"Apple\", \"Microsoft\"])\nsort_by_length([\"Leonardo\", \"Michelangelo\", \"Raphael\", \"Donatello\"])\nsort_by_length([\"Turing\", \"Einstein\", \"Jung\"])",
      "metadata": {
        "trusted": true
      },
      "execution_count": 4,
      "outputs": [
        {
          "name": "stdout",
          "text": "sort_by_length(['Google', 'Apple', 'Microsoft']) ➞ ['Apple', 'Google', 'Microsoft']\nsort_by_length(['Leonardo', 'Michelangelo', 'Raphael', 'Donatello']) ➞ ['Raphael', 'Leonardo', 'Donatello', 'Michelangelo']\nsort_by_length(['Turing', 'Einstein', 'Jung']) ➞ ['Jung', 'Turing', 'Einstein']\n",
          "output_type": "stream"
        }
      ]
    },
    {
      "cell_type": "code",
      "source": "Q.5 : Create a function that validates whether three given integers form a Pythagorean triplet. The sum of the squares of the two smallest integers must equal the square of the largest number to be validated.\nExamples:\n`is_triplet(3, 4, 5) ➞ True\n\n# 3² + 4² = 25\n# 5² = 25\nis_triplet(13, 5, 12) ➞ True\n\n# 5² + 12² = 169\n# 13² = 169\nis_triplet(1, 2, 3) ➞ False\n\n# 1² + 2² = 5\n# 3² = 9`\n\nNotes: Numbers may not be given in a sorted order.",
      "metadata": {},
      "execution_count": null,
      "outputs": []
    },
    {
      "cell_type": "code",
      "source": "#Solution 5\n\ndef is_triplet(*args):\n    '''\n        This function takes 3 number input and validates whether three given integers form a Pythagorean triplet. \n        The sum of the squares of the two smallest integers must equal the square of the largest number to be validated.\n    '''\n    try:\n        Result = []\n        Result.append(args)\n        Result = sorted(Result[0])\n        \n        print(f'is_triplet{args} ➞ {True if pow(Result[0],2)+pow(Result[1],2) == pow(Result[2],2) else False}')\n        \n    except Exception as e:\n        print('Error Occured : ',e)\n        \nis_triplet(3, 4, 5)     \nis_triplet(13, 5, 12)\nis_triplet(1, 2, 3)",
      "metadata": {
        "trusted": true
      },
      "execution_count": 5,
      "outputs": [
        {
          "name": "stdout",
          "text": "is_triplet(3, 4, 5) ➞ True\nis_triplet(13, 5, 12) ➞ True\nis_triplet(1, 2, 3) ➞ False\n",
          "output_type": "stream"
        }
      ]
    },
    {
      "cell_type": "code",
      "source": "",
      "metadata": {},
      "execution_count": null,
      "outputs": []
    }
  ]
}