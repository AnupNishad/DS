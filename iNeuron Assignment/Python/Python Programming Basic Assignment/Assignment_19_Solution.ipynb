{
  "metadata": {
    "language_info": {
      "codemirror_mode": {
        "name": "python",
        "version": 3
      },
      "file_extension": ".py",
      "mimetype": "text/x-python",
      "name": "python",
      "nbconvert_exporter": "python",
      "pygments_lexer": "ipython3",
      "version": "3.8"
    },
    "kernelspec": {
      "name": "python",
      "display_name": "Pyolite",
      "language": "python"
    }
  },
  "nbformat_minor": 4,
  "nbformat": 4,
  "cells": [
    {
      "cell_type": "code",
      "source": "Q.1 : Create a function that takes a string and returns a string in which each character is repeated once.\nExamples:\ndouble_char(\"String\") ➞ \"SSttrriinngg\"\ndouble_char(\"Hello World!\") ➞ \"HHeelllloo WWoorrlldd!!\"\ndoublechar(\"1234!_\") ➞ \"11223344!!__\"",
      "metadata": {},
      "execution_count": null,
      "outputs": []
    },
    {
      "cell_type": "code",
      "source": "#Solution 1\n\ndef double_char(String):\n    \n    '''\n        This function takes a string and returns a string in which each character is repeated once.\n    '''\n    \n    try:\n        DoubleCharString = \"\"\n        for i in String:\n            DoubleCharString = DoubleCharString+i*2 if i != \" \" else DoubleCharString+i*1\n        \n        print(f'double_char({String}) ➞ {str(DoubleCharString)}')\n            \n    except Exception as e:\n        print('Error Occured : ',e)\n\ndouble_char(\"String\")\ndouble_char(\"Hello World!\")\ndouble_char(\"1234!_\")",
      "metadata": {
        "trusted": true
      },
      "execution_count": 1,
      "outputs": [
        {
          "name": "stdout",
          "text": "double_char(String) ➞ SSttrriinngg\ndouble_char(Hello World!) ➞ HHeelllloo WWoorrlldd!!\ndouble_char(1234!_) ➞ 11223344!!__\n",
          "output_type": "stream"
        }
      ]
    },
    {
      "cell_type": "code",
      "source": "Q.2 : Create a function that reverses a boolean value and returns the string \"boolean expected\" if another variable type is given.\nExamples:\nreverse(True) ➞ False\nreverse(False) ➞ True\nreverse(0) ➞ \"boolean expected\"\nreverse(None) ➞ \"boolean expected\"",
      "metadata": {},
      "execution_count": null,
      "outputs": []
    },
    {
      "cell_type": "code",
      "source": "#Solution 2\n\ndef reverse(DataType):\n    \n    '''\n        This function takes a input and it reverses a boolean value and returns the string \"boolean expected\" if another variable type is given.\n    '''\n    \n    try:\n        Result = False\n        if type(DataType) == bool:\n            Result = not DataType\n        else:\n            Result = \"boolean expected\"\n        \n        print(f'reverse({DataType}) ➞ {Result}')\n            \n    except Exception as e:\n        print('Error Occured : ',e)\n\nreverse(True)\nreverse(False)\nreverse(0)\nreverse(None)",
      "metadata": {
        "trusted": true
      },
      "execution_count": 2,
      "outputs": [
        {
          "name": "stdout",
          "text": "reverse(True) ➞ False\nreverse(False) ➞ True\nreverse(0) ➞ boolean expected\nreverse(None) ➞ boolean expected\n",
          "output_type": "stream"
        }
      ]
    },
    {
      "cell_type": "code",
      "source": "3. Create a function that returns the thickness (in meters) of a piece of paper after folding it n number of times. The paper starts off with a thickness of 0.5mm.\nExamples:\n`num_layers(1) ➞ \"0.001m\"\n\n# Paper folded once is 1mm (equal to 0.001m)\nnum_layers(4) ➞ \"0.008m\"\n\n# Paper folded 4 times is 8mm (equal to 0.008m)\nnum_layers(21) ➞ \"1048.576m\"\n\n# Paper folded 21 times is 1048576mm (equal to 1048.576m)",
      "metadata": {},
      "execution_count": null,
      "outputs": []
    },
    {
      "cell_type": "code",
      "source": "#Solution 3\n\ndef num_layers(Num):\n    \n    '''\n        This function takes a Number input and returns the thickness (in meters) of a piece of paper after folding it n number of times. The paper starts off with a thickness of 0.5mm.\n    '''\n    \n    try:\n        Result = 0.5\n        for i in range(Num):\n            Result = Result*2\n        \n        print(f'num_layers({Num}) ➞ {str((Result)/1000)}m')\n            \n    except Exception as e:\n        print('Error Occured : ',e)\n\nnum_layers(1)\nnum_layers(4)\nnum_layers(21)",
      "metadata": {
        "trusted": true
      },
      "execution_count": 3,
      "outputs": [
        {
          "name": "stdout",
          "text": "num_layers(1) ➞ 0.001m\nnum_layers(4) ➞ 0.008m\nnum_layers(21) ➞ 1048.576m\n",
          "output_type": "stream"
        }
      ]
    },
    {
      "cell_type": "code",
      "source": "Q.4 : Create a function that takes a single string as argument and returns an ordered list containing the indices of all capital letters in the string.\nExamples:\nindex_of_caps(\"eDaBiT\") ➞ [1, 3, 5]\nindex_of_caps(\"eQuINoX\") ➞ [1, 3, 4, 6]\nindex_of_caps(\"determine\") ➞ []\nindex_of_caps(\"STRIKE\") ➞ [0, 1, 2, 3, 4, 5]\nindex_of_caps(\"sUn\") ➞ [1]",
      "metadata": {},
      "execution_count": null,
      "outputs": []
    },
    {
      "cell_type": "code",
      "source": "#Solution 4\n\ndef index_of_caps(String):\n    \n    '''\n        This function takes a single string as argument and returns an ordered list containing the indices of all capital letters in the string.\n    '''\n    \n    try:\n        Result = []\n        for i in range(len(String)):\n            if String[i].isupper():\n                Result.append(i)\n        \n        print(f'index_of_caps({String}) ➞ {Result}')\n            \n    except Exception as e:\n        print('Error Occured : ',e)\n\nindex_of_caps(\"eDaBiT\")\nindex_of_caps(\"eQuINoX\")\nindex_of_caps(\"determine\")\nindex_of_caps(\"STRIKE\")\nindex_of_caps(\"sUn\")",
      "metadata": {
        "trusted": true
      },
      "execution_count": 4,
      "outputs": [
        {
          "name": "stdout",
          "text": "index_of_caps(eDaBiT) ➞ [1, 3, 5]\nindex_of_caps(eQuINoX) ➞ [1, 3, 4, 6]\nindex_of_caps(determine) ➞ []\nindex_of_caps(STRIKE) ➞ [0, 1, 2, 3, 4, 5]\nindex_of_caps(sUn) ➞ [1]\n",
          "output_type": "stream"
        }
      ]
    },
    {
      "cell_type": "code",
      "source": "Q.5 : Using list comprehensions, create a function that finds all even numbers from 1 to the given number.\nExamples:\nfind_even_nums(8) ➞ [2, 4, 6, 8]\nfind_even_nums(4) ➞ [2, 4]\nfind_even_nums(2) ➞ [2]",
      "metadata": {},
      "execution_count": null,
      "outputs": []
    },
    {
      "cell_type": "code",
      "source": "#Solution 5\n\ndef find_even_nums(Num):\n    \n    '''\n        This function takes a single number as argument and it finds all even numbers from 1 to the given number.\n    '''\n    \n    try:\n        Result = [i for i in range(1,Num+1) if i%2 == 0]\n        \n        print(f'find_even_nums({Num}) ➞ {Result}')\n            \n    except Exception as e:\n        print('Error Occured : ',e)\n\nfind_even_nums(8)\nfind_even_nums(4)\nfind_even_nums(2)",
      "metadata": {
        "trusted": true
      },
      "execution_count": 5,
      "outputs": [
        {
          "name": "stdout",
          "text": "find_even_nums(8) ➞ [2, 4, 6, 8]\nfind_even_nums(4) ➞ [2, 4]\nfind_even_nums(2) ➞ [2]\n",
          "output_type": "stream"
        }
      ]
    },
    {
      "cell_type": "code",
      "source": "",
      "metadata": {},
      "execution_count": null,
      "outputs": []
    }
  ]
}