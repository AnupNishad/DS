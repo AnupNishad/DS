{
  "metadata": {
    "language_info": {
      "codemirror_mode": {
        "name": "python",
        "version": 3
      },
      "file_extension": ".py",
      "mimetype": "text/x-python",
      "name": "python",
      "nbconvert_exporter": "python",
      "pygments_lexer": "ipython3",
      "version": "3.8"
    },
    "kernelspec": {
      "name": "python",
      "display_name": "Pyolite",
      "language": "python"
    }
  },
  "nbformat_minor": 4,
  "nbformat": 4,
  "cells": [
    {
      "cell_type": "markdown",
      "source": "Q.1 : Write a Python Program to Add Two Matrices?",
      "metadata": {}
    },
    {
      "cell_type": "code",
      "source": "#Solution 1\n\nimport numpy as np\nfrom numpy import *\n\ndef AddTwoMatrices(array1,array2):\n    '''\n        This function will take 2 array as input & returns addition of those two arrays.\n    '''\n    try:\n        print(f'AddTwoMatrices{array1,array2} ➞ {array1+array2}')\n        \n    except Exception as e:\n        print('Error Occured : ',e)\n        \nAddTwoMatrices(random.randint(100, size=(2,3)),random.randint(100, size=(2,3)))",
      "metadata": {
        "trusted": true
      },
      "execution_count": 1,
      "outputs": [
        {
          "name": "stdout",
          "text": "AddTwoMatrices(array([[79, 22, 74],\n       [15, 46, 95]]), array([[68, 32, 87],\n       [98, 88, 45]])) ➞ [[147  54 161]\n [113 134 140]]\n",
          "output_type": "stream"
        }
      ]
    },
    {
      "cell_type": "code",
      "source": "Q.2 : Write a Python Program to Multiply Two Matrices?",
      "metadata": {},
      "execution_count": null,
      "outputs": []
    },
    {
      "cell_type": "code",
      "source": "#Solution 2\n\nimport numpy as np\nfrom numpy import *\n\ndef MultiplyTwoMatrices(array1,array2):\n    '''\n        This function will take 2 array as input & returns multiplication of those two arrays.\n    '''\n    try:\n        print(f'MultiplyTwoMatrices{array1,array2} ➞ {array1.dot(array2)}')\n        \n    except Exception as e:\n        print('Error Occured : ',e)\n        \nMultiplyTwoMatrices(random.randint(100, size=(2,2)),random.randint(100, size=(2,2)))",
      "metadata": {
        "trusted": true
      },
      "execution_count": 2,
      "outputs": [
        {
          "name": "stdout",
          "text": "MultiplyTwoMatrices(array([[78, 40],\n       [94, 11]]), array([[10, 39],\n       [22, 58]])) ➞ [[1660 5362]\n [1182 4304]]\n",
          "output_type": "stream"
        }
      ]
    },
    {
      "cell_type": "markdown",
      "source": "Q.3 : Write a Python Program to Transpose a Matrix?",
      "metadata": {}
    },
    {
      "cell_type": "code",
      "source": "#Solution 3\n\nimport numpy as np\nfrom numpy import *\n\ndef TransposeMatrix(array):\n    '''\n        This function will take a array as input & returns converting row into columns & columns into rows ie. Transpose matrix.\n    '''\n    try:\n        print(f'TransposeMatrix{array} ➞ {array.transpose()}')\n        \n    except Exception as e:\n        print('Error Occured : ',e)\n        \nTransposeMatrix(random.randint(100, size=(2,3)))",
      "metadata": {
        "trusted": true
      },
      "execution_count": 3,
      "outputs": [
        {
          "name": "stdout",
          "text": "TransposeMatrix[[14 13 35]\n [34 86  0]] ➞ [[14 34]\n [13 86]\n [35  0]]\n",
          "output_type": "stream"
        }
      ]
    },
    {
      "cell_type": "markdown",
      "source": "Q.4 : Write a Python Program to Sort Words in Alphabetic Order?",
      "metadata": {}
    },
    {
      "cell_type": "code",
      "source": "#Solution 4\n\n\ndef SortWordString(String):\n    '''\n        This function will take a string as input & returns sorting with alphabatical order.\n    '''\n    try:\n        print(f'SortWordString({String}) ➞ {\" \".join(sorted(String.split()))}')\n        \n    except Exception as e:\n        print('Error Occured : ',e)\n        \nSortWordString(\"This Is My First Python Program\")",
      "metadata": {
        "trusted": true
      },
      "execution_count": 4,
      "outputs": [
        {
          "name": "stdout",
          "text": "SortWordString(This Is My First Python Program) ➞ First Is My Program Python This\n",
          "output_type": "stream"
        }
      ]
    },
    {
      "cell_type": "markdown",
      "source": "Q.5 : Write a Python Program to Remove Punctuation From a String?",
      "metadata": {}
    },
    {
      "cell_type": "code",
      "source": "#Solution 5\n\n\ndef RemovePunctuatuions(String):\n    '''\n        This function will take a string as input & remove punctuations & returns string without punctuations.\n    '''\n    try:\n        Punctuations = '''!()-[]{};:'\"\\,<>./?@#$%^&*_~'''\n        Result = \"\"\n        for i in String:\n            if i not in Punctuations:\n                Result  = Result+i\n    \n        print(f'RemovePunctuatuions({String}) ➞ {Result}')\n        \n    except Exception as e:\n        print('Error Occured : ',e)\n        \nRemovePunctuatuions(\"This Is My First Python Program!!\")",
      "metadata": {
        "trusted": true
      },
      "execution_count": 5,
      "outputs": [
        {
          "name": "stdout",
          "text": "RemovePunctuatuions(This Is My First Python Program!!) ➞ This Is My First Python Program\n",
          "output_type": "stream"
        }
      ]
    },
    {
      "cell_type": "code",
      "source": "",
      "metadata": {},
      "execution_count": null,
      "outputs": []
    }
  ]
}