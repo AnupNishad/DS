{
  "nbformat": 4,
  "nbformat_minor": 0,
  "metadata": {
    "colab": {
      "name": "Assignment_13_Solution.ipynb",
      "provenance": [],
      "collapsed_sections": []
    },
    "kernelspec": {
      "name": "python3",
      "display_name": "Python 3"
    },
    "language_info": {
      "name": "python"
    }
  },
  "cells": [
    {
      "cell_type": "markdown",
      "source": [
        "1. Write a program that calculates and prints the value according to the given formula:\n",
        "Q = Square root of [(2 * C * D)/H]\n",
        "Following are the fixed values of C and H:\n",
        "C is 50. H is 30.\n",
        "D is the variable whose values should be input to your program in a comma-separated sequence.\n",
        "Example: Let us assume the following comma separated input sequence is given to the program:100,150,180\n",
        "The output of the program should be: 18,22,24"
      ],
      "metadata": {
        "id": "8nDkYRIb5ESs"
      }
    },
    {
      "cell_type": "code",
      "source": [
        "#Solution 1\n",
        "import math\n",
        "\n",
        "def Calculate():\n",
        "    '''\n",
        "        This function will take the intergers as input & calculate the value as per given formula.\n",
        "    '''\n",
        "    try:\n",
        "        Numbers = eval(input(\"Enter the Input : \"))\n",
        "        C = 50\n",
        "        H = 30\n",
        "        Result = []\n",
        "        for D in list(Numbers):\n",
        "            Result.append(str(round(math.sqrt((2 * C * D)/H))))\n",
        "            \n",
        "        print(f'Calculate({Numbers}) ➞ {\",\".join(Result)}')\n",
        "        \n",
        "    except Exception as e:\n",
        "        print('Error Occured : ',e)\n",
        "        \n",
        "Calculate()"
      ],
      "metadata": {
        "colab": {
          "base_uri": "https://localhost:8080/"
        },
        "id": "Gq9KQ9eJyqrO",
        "outputId": "8b0da6b0-5c08-40a2-b96f-b227fb3f54a6"
      },
      "execution_count": 1,
      "outputs": [
        {
          "output_type": "stream",
          "name": "stdout",
          "text": [
            "Enter the Input : 100,150,180\n",
            "Calculate((100, 150, 180)) ➞ 18,22,24\n"
          ]
        }
      ]
    },
    {
      "cell_type": "markdown",
      "source": [
        "\n",
        "2. Write a program which takes 2 digits, X,Y as input and generates a 2-dimensional array. The element value in the i-th row and j-th column of the array should be i*j.\n",
        "Note: i=0,1.., X-1; j=0,1,¡Y-1.\n",
        "Example: Suppose the following inputs are given to the program: 3,5\n",
        "Then, the output of the program should be:[[0, 0, 0, 0, 0], [0, 1, 2, 3, 4], [0, 2, 4, 6, 8]]"
      ],
      "metadata": {
        "id": "tdJjDf654_zl"
      }
    },
    {
      "cell_type": "code",
      "source": [
        "#Solution 2\n",
        "\n",
        "def Generate2DArray():\n",
        "    '''\n",
        "        This function will take the two intergers as input & create the 2D array based on input given as row & column.\n",
        "    '''\n",
        "    try:\n",
        "        x = eval(input(\"Enter the number of rows : \"))\n",
        "        y = eval(input(\"Enter the number of columns : \"))\n",
        "        Result = []\n",
        "        for i in range(x):\n",
        "            Result.insert(x,[])\n",
        "            for j in range(y):\n",
        "              Result[i].append(i*j)\n",
        "               \n",
        "        print(f'Generate2DArray{x,y} ➞ {Result}')\n",
        "        \n",
        "    except Exception as e:\n",
        "        print('Error Occured : ',e)\n",
        "        \n",
        "Generate2DArray()"
      ],
      "metadata": {
        "colab": {
          "base_uri": "https://localhost:8080/"
        },
        "id": "wVmGxM4oyRj0",
        "outputId": "7fa81732-7dbe-4680-f0ae-315b6786a0db"
      },
      "execution_count": 2,
      "outputs": [
        {
          "output_type": "stream",
          "name": "stdout",
          "text": [
            "Enter the number of rows : 3\n",
            "Enter the number of columns : 5\n",
            "Generate2DArray(3, 5) ➞ [[0, 0, 0, 0, 0], [0, 1, 2, 3, 4], [0, 2, 4, 6, 8]]\n"
          ]
        }
      ]
    },
    {
      "cell_type": "markdown",
      "source": [
        "3. Write a program that accepts a comma separated sequence of words as input and prints the words in a comma-separated sequence after sorting them alphabetically ?\n",
        "Suppose the following input is supplied to the program: without,hello,bag,world\n",
        "Then, the output should be: bag,hello,without,world"
      ],
      "metadata": {
        "id": "OE-oQj204ysC"
      }
    },
    {
      "cell_type": "code",
      "source": [
        "#Solution 3\n",
        "\n",
        "def SortWordsAlphabatically():\n",
        "    '''\n",
        "        This function will take the string as input & returns the sorted string alphabatically.\n",
        "    '''\n",
        "    try:\n",
        "        WordsInCommaSeparated = input(\"Enter the words in comma separated : \")\n",
        "        SortedWords = sorted(WordsInCommaSeparated.split(\",\"))\n",
        "\n",
        "        print(f'SortWordsAlphabatically({WordsInCommaSeparated}) ➞ {\",\".join(SortedWords)}')\n",
        "        \n",
        "    except Exception as e:\n",
        "        print('Error Occured : ',e)\n",
        "        \n",
        "SortWordsAlphabatically()"
      ],
      "metadata": {
        "colab": {
          "base_uri": "https://localhost:8080/"
        },
        "id": "O2lSCEFl37D3",
        "outputId": "eae9de23-4fc7-4862-dbc9-3370753faff7"
      },
      "execution_count": 3,
      "outputs": [
        {
          "output_type": "stream",
          "name": "stdout",
          "text": [
            "Enter the words in comma separated : without,hello,bag,world\n",
            "SortWordsAlphabatically(without,hello,bag,world) ➞ bag,hello,without,world\n"
          ]
        }
      ]
    },
    {
      "cell_type": "markdown",
      "source": [
        "4. Write a program that accepts a sequence of whitespace separated words as input and prints the words after removing all duplicate words and sorting them alphanumerically.\n",
        "Suppose the following input is supplied to the program: hello world and practice makes perfect and hello world again\n",
        "Then, the output should be: again and hello makes perfect practice world"
      ],
      "metadata": {
        "id": "x_qdSmIJ5Pd9"
      }
    },
    {
      "cell_type": "code",
      "source": [
        "#Solution 4\n",
        "\n",
        "def RemoveDuplicatesAndSort():\n",
        "    '''\n",
        "        This function will take the string as input & returns the sorted string alphabatically after removing duplicate words.\n",
        "    '''\n",
        "    try:\n",
        "        Sentence = input(\"Enter the Inputs : \")\n",
        "        print(f'RemoveDuplicatesAndSort({Sentence}) ➞ {\" \".join(sorted(list(set(Sentence.split()))))}')\n",
        "        \n",
        "    except Exception as e:\n",
        "        print('Error Occured : ',e)\n",
        "        \n",
        "RemoveDuplicatesAndSort()"
      ],
      "metadata": {
        "colab": {
          "base_uri": "https://localhost:8080/"
        },
        "id": "GapzOg0v5STu",
        "outputId": "dee91aa9-0e0d-4821-8636-e9bdc8a9a50a"
      },
      "execution_count": 4,
      "outputs": [
        {
          "output_type": "stream",
          "name": "stdout",
          "text": [
            "Enter the Inputs : hello world and practice makes perfect and hello world again\n",
            "RemoveDuplicatesAndSort(hello world and practice makes perfect and hello world again) ➞ again and hello makes perfect practice world\n"
          ]
        }
      ]
    },
    {
      "cell_type": "markdown",
      "source": [
        "5. Write a program that accepts a sentence and calculate the number of letters and digits.\n",
        "Suppose the following input is supplied to the program: hello world! 123\n",
        "Then, the output should be:\n",
        "LETTERS 10\n",
        "DIGITS 3"
      ],
      "metadata": {
        "id": "APKdlz208mEw"
      }
    },
    {
      "cell_type": "code",
      "source": [
        "#Solution 5\n",
        "\n",
        "def CountLetterAndDigit():\n",
        "    '''\n",
        "        This function will take the string as input & returns the number of letters & digit contains string.\n",
        "    '''\n",
        "    try:\n",
        "        Sentence = input(\"Enter the Inputs : \")\n",
        "        Letter = 0\n",
        "        Digit = 0\n",
        "        for i in Sentence.split():\n",
        "          if \"!\" in i:\n",
        "            i = i.replace(\"!\",\"\")\n",
        "          if i.isalpha():\n",
        "            Letter = Letter+len(i)\n",
        "\n",
        "          if i.isdigit():\n",
        "            Digit = Digit+len(i)\n",
        "\n",
        "        print(f'CountLetterAndDigit({Sentence}) ➞ LETTERS : {Letter}\\n DIGITS : {Digit}')\n",
        "        \n",
        "    except Exception as e:\n",
        "        print('Error Occured : ',e)\n",
        "        \n",
        "CountLetterAndDigit()"
      ],
      "metadata": {
        "colab": {
          "base_uri": "https://localhost:8080/"
        },
        "id": "JbiP_VN28q5b",
        "outputId": "e7119a25-715f-4ab3-95b2-44bda145f8c7"
      },
      "execution_count": 5,
      "outputs": [
        {
          "output_type": "stream",
          "name": "stdout",
          "text": [
            "Enter the Inputs : hello world! 123\n",
            "CountLetterAndDigit(hello world! 123) ➞ LETTERS : 10\n",
            " DIGITS : 3\n"
          ]
        }
      ]
    },
    {
      "cell_type": "code",
      "source": [
        ""
      ],
      "metadata": {
        "id": "XkzNj4zoBBZY"
      },
      "execution_count": null,
      "outputs": []
    }
  ]
}