{
  "metadata": {
    "language_info": {
      "codemirror_mode": {
        "name": "python",
        "version": 3
      },
      "file_extension": ".py",
      "mimetype": "text/x-python",
      "name": "python",
      "nbconvert_exporter": "python",
      "pygments_lexer": "ipython3",
      "version": "3.8"
    },
    "kernelspec": {
      "name": "python",
      "display_name": "Pyolite",
      "language": "python"
    }
  },
  "nbformat_minor": 4,
  "nbformat": 4,
  "cells": [
    {
      "cell_type": "markdown",
      "source": "Q.1 : Write a Python Program to find sum of array?",
      "metadata": {}
    },
    {
      "cell_type": "code",
      "source": "#Solution 1\n\nimport numpy as np\nfrom numpy import *\n\ndef SumArray(array):\n    '''\n        This function will take array as input & returns sum of the array\n    '''\n    try:\n        print(f'SumArray({array}) ➞ {sum(array)}')\n        \n    except Exception as e:\n        print('Error Occured : ',e)\n        \nSumArray(random.randint(100, size=(5)))",
      "metadata": {
        "trusted": true
      },
      "execution_count": 6,
      "outputs": [
        {
          "name": "stdout",
          "text": "SumArray([27 39 58 40 33]) ➞ 197\n",
          "output_type": "stream"
        }
      ]
    },
    {
      "cell_type": "code",
      "source": "",
      "metadata": {},
      "execution_count": null,
      "outputs": []
    },
    {
      "cell_type": "markdown",
      "source": "Q.2 : Write a Python Program to find largest element in an array?",
      "metadata": {}
    },
    {
      "cell_type": "code",
      "source": "#Solution 2\n\nfrom numpy import *\n\ndef LargestElement(array):\n    '''\n        This function will take array as input & returns largest element from the array.\n    '''\n    try:\n        print(f'LargestElement({array}) ➞ {sorted(list(array),reverse=True)[0]}')\n        \n    except Exception as e:\n        print('Error Occured : ',e)\n        \nLargestElement(random.randint(100, size=(5)))",
      "metadata": {
        "trusted": true
      },
      "execution_count": 5,
      "outputs": [
        {
          "name": "stdout",
          "text": "LargestElement([88 51 77 77 71]) ➞ 88\n",
          "output_type": "stream"
        }
      ]
    },
    {
      "cell_type": "code",
      "source": "",
      "metadata": {},
      "execution_count": null,
      "outputs": []
    },
    {
      "cell_type": "markdown",
      "source": "Q.3 : Write a Python Program for array rotation ?",
      "metadata": {}
    },
    {
      "cell_type": "code",
      "source": "#Solution 3\n\nfrom numpy import *\n\ndef ArrayRotation(array):\n    '''\n        This function will take array as input & returns rotated array.\n    '''\n    try:\n        print(f'ArrayRotation({array}) ➞ {list(array)[::-1]}')\n        \n    except Exception as e:\n        print('Error Occured : ',e)\n        \nArrayRotation(random.randint(100, size=(5)))",
      "metadata": {
        "trusted": true
      },
      "execution_count": 4,
      "outputs": [
        {
          "name": "stdout",
          "text": "ArrayRotation([ 1 86 52 37 32]) ➞ [32, 37, 52, 86, 1]\n",
          "output_type": "stream"
        }
      ]
    },
    {
      "cell_type": "code",
      "source": "",
      "metadata": {},
      "execution_count": null,
      "outputs": []
    },
    {
      "cell_type": "markdown",
      "source": "Q.4 : Write a Python Program to Split the array and add the first part to the end ?",
      "metadata": {}
    },
    {
      "cell_type": "code",
      "source": "#Solution 4\n\nfrom numpy import *\n\ndef AddSplitedArray(array):\n    '''\n        This function will take array as input & returns addition of fist & last element of array.\n    '''\n    try:\n        print(f'AddSplitedArray({array}) ➞ {list(array)[0]+list(array)[len(list(array))-1]}')\n        \n    except Exception as e:\n        print('Error Occured : ',e)\n        \nAddSplitedArray(random.randint(100, size=(5)))",
      "metadata": {
        "trusted": true
      },
      "execution_count": 1,
      "outputs": [
        {
          "name": "stdout",
          "text": "AddSplitedArray([85 83 48 20 88]) ➞ 173\n",
          "output_type": "stream"
        }
      ]
    },
    {
      "cell_type": "code",
      "source": "",
      "metadata": {},
      "execution_count": null,
      "outputs": []
    },
    {
      "cell_type": "markdown",
      "source": "Q.5 : Write a Python Program to check if given array is Monotonic ?",
      "metadata": {}
    },
    {
      "cell_type": "code",
      "source": "# Solution 5\n\nfrom numpy import *\n\ndef IsMonotonic(array):\n    '''\n        This function will take array as input & returns Monotonic or not.\n    '''\n    try:\n        return (all(array[i] <= array[i + 1] for i in range(len(array) - 1)) or\n                    all(array[i] >= array[i + 1] for i in range(len(array) - 1)))\n\n     except Exception as e:\n        print('Error Occured : ',e)\n\n        \narray = [4, 2, 4, 5, 6, 1]\nprint(IsMonotonic(array))",
      "metadata": {
        "trusted": true
      },
      "execution_count": null,
      "outputs": []
    },
    {
      "cell_type": "code",
      "source": "",
      "metadata": {},
      "execution_count": null,
      "outputs": []
    }
  ]
}