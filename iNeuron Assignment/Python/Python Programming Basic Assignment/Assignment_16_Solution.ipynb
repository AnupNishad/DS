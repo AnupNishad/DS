{
  "metadata": {
    "language_info": {
      "codemirror_mode": {
        "name": "python",
        "version": 3
      },
      "file_extension": ".py",
      "mimetype": "text/x-python",
      "name": "python",
      "nbconvert_exporter": "python",
      "pygments_lexer": "ipython3",
      "version": "3.8"
    },
    "kernelspec": {
      "name": "python",
      "display_name": "Pyolite",
      "language": "python"
    }
  },
  "nbformat_minor": 4,
  "nbformat": 4,
  "cells": [
    {
      "cell_type": "markdown",
      "source": "Q.1 : Write a function that stutters a word as if someone is struggling to read it. The first two letters are repeated twice with an ellipsis ... and space after each, and then the word is pronounced with a question mark ?\nExamples: stutter(\"incredible\") ➞ \"in... in... incredible?\"\nstutter(\"enthusiastic\") ➞ \"en... en... enthusiastic?\"\nstutter(\"outstanding\") ➞ \"ou... ou... outstanding?\"\n\nHint :- Assume all input is in lower case and at least two characters long.",
      "metadata": {}
    },
    {
      "cell_type": "code",
      "source": "#Solution 1\n\ndef stutter(String):\n    '''\n        This function will take the a string input & returns as per asked in the question.\n    '''\n    try:\n        Result = \"\"\n        Result = (String[0:2]+\"... \")*2\n        \n        print(f'stutter({String}) ➞ {str(Result+String+\"?\")}')\n        \n    except Exception as e:\n        print('Error Occured : ',e)\n        \nstutter(\"incredible\")\nstutter(\"enthusiastic\")\nstutter(\"outstanding\")",
      "metadata": {
        "trusted": true
      },
      "execution_count": 7,
      "outputs": [
        {
          "name": "stdout",
          "text": "stutter(incredible) ➞ in... in... incredible?\nstutter(enthusiastic) ➞ en... en... enthusiastic?\nstutter(outstanding) ➞ ou... ou... outstanding?\n",
          "output_type": "stream"
        }
      ]
    },
    {
      "cell_type": "markdown",
      "source": "\n\nQ.2 : Create a function that takes an angle in radians and returns the corresponding angle in degrees rounded to one decimal place ?\nExamples: radians_to_degrees(1) ➞ 57.3\nradians_to_degrees(20) ➞ 1145.9\nradians_to_degrees(50) ➞ 2864.8",
      "metadata": {}
    },
    {
      "cell_type": "code",
      "source": "#Solution 2\n\nimport math\ndef radians_to_degrees(Radian):\n    '''\n        This function will take the a integer(Radian) input & returns degree of radian provided.\n    '''\n    try:\n        Degree = round(math.degrees(Radian),1)\n        print(f'radians_to_degrees({Radian}) ➞ {Degree}')\n        \n    except Exception as e:\n        print('Error Occured : ',e)\n        \nradians_to_degrees(1)\nradians_to_degrees(20)\nradians_to_degrees(50)",
      "metadata": {
        "trusted": true
      },
      "execution_count": 8,
      "outputs": [
        {
          "name": "stdout",
          "text": "radians_to_degrees(1) ➞ 57.3\nradians_to_degrees(20) ➞ 1145.9\nradians_to_degrees(50) ➞ 2864.8\n",
          "output_type": "stream"
        }
      ]
    },
    {
      "cell_type": "markdown",
      "source": "\n\nQ.3 : In this challenge, establish if a given integer num is a Curzon number. If 1 plus 2 elevated to num is exactly divisible by 1 plus 2 multiplied by num, then num is a Curzon number. Given a non-negative integer num, implement a function that returns True if num is a Curzon number, or False otherwise.\nExamples: `is_curzon(5) ➞ True\n\n# 2 ** 5 + 1 = 33\n# 2 * 5 + 1 = 11\n# 33 is a multiple of 11\nis_curzon(10) ➞ False\n\n# 2 ** 10 + 1 = 1025\n# 2 * 10 + 1 = 21\n# 1025 is not a multiple of 21\nis_curzon(14) ➞ True\n\n# 2 ** 14 + 1 = 16385\n# 2 * 14 + 1 = 29\n# 16385 is a multiple of 29`",
      "metadata": {}
    },
    {
      "cell_type": "code",
      "source": "#Solution 3\n\ndef is_curzon(Num):\n    '''\n        This function will take the a integer input & returns True if num is a Curzon number, or False otherwise.\n    '''\n    try:\n        Result = False\n        if (2**Num+1)%(2*Num+1) == 0:\n            Result = True\n        \n        print(f'is_curzon({Num}) ➞ {Result}')\n        \n    except Exception as e:\n        print('Error Occured : ',e)\n        \nis_curzon(5)\nis_curzon(10)\nis_curzon(14)",
      "metadata": {
        "trusted": true
      },
      "execution_count": 9,
      "outputs": [
        {
          "name": "stdout",
          "text": "is_curzon(5) ➞ True\nis_curzon(10) ➞ False\nis_curzon(14) ➞ True\n",
          "output_type": "stream"
        }
      ]
    },
    {
      "cell_type": "markdown",
      "source": "\n\nQ.4 : Given the side length x find the area of a hexagon ?\nExamples: area_of_hexagon(1) ➞ 2.6\narea_of_hexagon(2) ➞ 10.4\narea_of_hexagon(3) ➞ 23.4",
      "metadata": {}
    },
    {
      "cell_type": "code",
      "source": "#Solution 4\n\nimport math\ndef area_of_hexagon(Num):\n    '''\n        This function will take the a integer input & returns area of hexagon.\n    '''\n    try:\n        AreaOfHexagon = ((3*math.sqrt(3))/2)*(Num**2)\n        \n        print(f'area_of_hexagon({Num}) ➞ {AreaOfHexagon:.1f}')\n        \n    except Exception as e:\n        print('Error Occured : ',e)\n        \narea_of_hexagon(1)\narea_of_hexagon(2)\narea_of_hexagon(3)",
      "metadata": {
        "trusted": true
      },
      "execution_count": 10,
      "outputs": [
        {
          "name": "stdout",
          "text": "area_of_hexagon(1) ➞ 2.6\narea_of_hexagon(2) ➞ 10.4\narea_of_hexagon(3) ➞ 23.4\n",
          "output_type": "stream"
        }
      ]
    },
    {
      "cell_type": "markdown",
      "source": "\n\nQ.5 : Create a function that returns a base-2 (binary) representation of a base-10 (decimal) string number. To convert is simple:\n((2) means base-2 and (10) means base-10)\n010101001(2) = 1 + 8 + 32 + 128.\nGoing from right to left, the value of the most right bit is 1, now from that every bit to the left will be x2 the value, value of an 8 bit binary numbers are (256, 128, 64, 32, 16, 8, 4, 2, 1).\nExamples:\n`binary(1) ➞ \"1\"\n\n# 1* 1 = 1\nbinary(5) ➞ \"101\"\n\n# 1 1 + 1 4 = 5\nbinary(10) ➞ \"1010\"\n\n# 1 2 + 1 8 = 10`",
      "metadata": {}
    },
    {
      "cell_type": "code",
      "source": "",
      "metadata": {
        "trusted": true
      },
      "execution_count": 5,
      "outputs": [
        {
          "name": "stdout",
          "text": "Compressed String : b'\\x1f\\x8b\\x08\\x00@pIb\\x02\\xff\\xcbH\\xcd\\xc9\\xc9W(\\xcf/\\xcaIQ\\xcc \\x82\\r\\x00\\xd3\\xe6\\xcf\\xae0\\x00\\x00\\x00' \n Decompressed String : b'hello world!hello world!hello world!hello world!'\n",
          "output_type": "stream"
        }
      ]
    },
    {
      "cell_type": "markdown",
      "source": "\n\nQ.6 : Please write a binary search function which searches an item in a sorted list. The\nfunction should return the index of element to be searched in the list.",
      "metadata": {}
    },
    {
      "cell_type": "code",
      "source": "#Solution 6\n\ndef BinarySearch(List,ItemToSearch):\n    '''\n        This function will take the 2 input(List,Int/Str) & returns the index of the item which is to be search.\n    '''\n    try:\n        Low = 0\n        High = len(List)-1\n        while Low <= High:\n            MidIndex = High+Low//2\n            if List[MidIndex] < ItemToSearch:\n                Low = MidIndex+1\n            elif List[MidIndex] > ItemToSearch:\n                High = MidIndex-1\n            else:\n                return MidIndex\n        else:\n            return 'Element not found in the list'\n        \n    except Exception as e:\n        print('Error Occured : ',e)\n        \nprint(f'BinarySearch([1,2,3,4,5],3) ➞ {BinarySearch([1,2,3,4,5],3)}')\nprint(f'BinarySearch([1,2,3,4,5],8) ➞ {BinarySearch([1,2,3,4,5],8)}')",
      "metadata": {
        "trusted": true
      },
      "execution_count": 6,
      "outputs": [
        {
          "name": "stdout",
          "text": "BinarySearch([1,2,3,4,5],3) ➞ 2\nBinarySearch([1,2,3,4,5],8) ➞ Element not found in the list\n",
          "output_type": "stream"
        }
      ]
    },
    {
      "cell_type": "code",
      "source": "",
      "metadata": {},
      "execution_count": null,
      "outputs": []
    }
  ]
}