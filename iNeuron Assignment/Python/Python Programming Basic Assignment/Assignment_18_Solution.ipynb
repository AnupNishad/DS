{
  "metadata": {
    "language_info": {
      "codemirror_mode": {
        "name": "python",
        "version": 3
      },
      "file_extension": ".py",
      "mimetype": "text/x-python",
      "name": "python",
      "nbconvert_exporter": "python",
      "pygments_lexer": "ipython3",
      "version": "3.8"
    },
    "kernelspec": {
      "name": "python",
      "display_name": "Pyolite",
      "language": "python"
    }
  },
  "nbformat_minor": 4,
  "nbformat": 4,
  "cells": [
    {
      "cell_type": "code",
      "source": "Q.1 : Create a function that takes a list of non-negative integers and strings and return a new list without the strings ?\nExamples:\nfilter_list([1, 2, \"a\", \"b\"]) ➞ [1, 2]\nfilter_list([1, \"a\", \"b\", 0, 15]) ➞ [1, 0, 15]\nfilter_list([1, 2, \"aasf\", \"1\", \"123\", 123]) ➞ [1, 2, 123]",
      "metadata": {},
      "execution_count": null,
      "outputs": []
    },
    {
      "cell_type": "code",
      "source": "#Solution 1\n\ndef filter_list(AlphaNumericList):\n    \n    '''\n        This function takes one list input and returns a new list without the strings.\n    '''\n    \n    try:\n        Result = []\n        for i in AlphaNumericList:\n            if type(i) == int:\n                Result.append(i)\n                \n        print(f'filter_list({AlphaNumericList}) ➞ {Result}')\n            \n    except Exception as e:\n        print('Error Occured : ',e)\n    \nfilter_list([1, 2, \"a\", \"b\"])\nfilter_list([1, \"a\", \"b\", 0, 15])\nfilter_list([1, 2, \"aasf\", \"1\", \"123\", 123])",
      "metadata": {
        "trusted": true
      },
      "execution_count": 1,
      "outputs": [
        {
          "name": "stdout",
          "text": "filter_list([1, 2, 'a', 'b']) ➞ [1, 2]\nfilter_list([1, 'a', 'b', 0, 15]) ➞ [1, 0, 15]\nfilter_list([1, 2, 'aasf', '1', '123', 123]) ➞ [1, 2, 123]\n",
          "output_type": "stream"
        }
      ]
    },
    {
      "cell_type": "code",
      "source": "Q.2 : The \"Reverser\" takes a string as input and returns that string in reverse order, with the opposite case ?\nExamples:\nreverse(\"Hello World\") ➞ \"DLROw OLLEh\"\nreverse(\"ReVeRsE\") ➞ \"eSrEvEr\"\nreverse(\"Radar\") ➞ \"RADAr\"",
      "metadata": {},
      "execution_count": null,
      "outputs": []
    },
    {
      "cell_type": "code",
      "source": "#Solution 2\n\ndef reverse(String):\n    \n    '''\n        This function takes one string input and returns string in reverse order, with the opposite case.\n    '''\n    \n    try:   \n        print(f'reverse({String}) ➞ {String[::-1].swapcase()}')\n            \n    except Exception as e:\n        print('Error Occured : ',e)\n    \nreverse(\"Hello World\")\nreverse(\"ReVeRsE\")\nreverse(\"Radar\")",
      "metadata": {
        "trusted": true
      },
      "execution_count": 2,
      "outputs": [
        {
          "name": "stdout",
          "text": "reverse(Hello World) ➞ DLROw OLLEh\nreverse(ReVeRsE) ➞ eSrEvEr\nreverse(Radar) ➞ RADAr\n",
          "output_type": "stream"
        }
      ]
    },
    {
      "cell_type": "code",
      "source": "Q.3 : You can assign variables from lists like this:\nlst = [1, 2, 3, 4, 5, 6]\nfirst = lst[0]\nmiddle = lst[1:-1]\nlast = lst[-1]\nprint(first) ➞ outputs 1\nprint(middle) ➞ outputs [2, 3, 4, 5]\nprint(last) ➞ outputs 6\nWith Python 3, you can assign variables from lists in a much more succinct way. Create variables first, middle and last from the given list using destructuring assignment\n(check the Resources tab for some examples), where:\nfirst ➞ 1\nmiddle ➞ [2, 3, 4, 5]\nlast ➞ 6\nYour task is to unpack the list writeyourcodehere into three variables, being first, middle, and last, with middle being everything in between the first and last element. Then print all three variables.",
      "metadata": {},
      "execution_count": null,
      "outputs": []
    },
    {
      "cell_type": "code",
      "source": "#Solution 3\n\ndef UnpackList(String):\n    \n    '''\n        This function takes one list input and returns unpack into three variables first, middle, and last, \n        with middle being everything in between the first and last element.\n    '''\n    \n    try:   \n        first, *middle, last = String\n        print(f'UnpackList({String}) ➞ {first,middle,last}')\n        print(f'first ➞ {first}')\n        print(f'middle ➞ {middle}')\n        print(f'last ➞ {last}')\n            \n    except Exception as e:\n        print('Error Occured : ',e)\n    \nUnpackList([1, 2, 3, 4, 5, 6])",
      "metadata": {
        "trusted": true
      },
      "execution_count": 3,
      "outputs": [
        {
          "name": "stdout",
          "text": "UnpackList([1, 2, 3, 4, 5, 6]) ➞ (1, [2, 3, 4, 5], 6)\nfirst ➞ 1\nmiddle ➞ [2, 3, 4, 5]\nlast ➞ 6\n",
          "output_type": "stream"
        }
      ]
    },
    {
      "cell_type": "code",
      "source": "Q.4 : Write a function that calculates the factorial of a number recursively.\nExamples:\nfactorial(5) ➞ 120\nfactorial(3) ➞ 6\nfactorial(1) ➞ 1\nfactorial(0) ➞ 1",
      "metadata": {},
      "execution_count": null,
      "outputs": []
    },
    {
      "cell_type": "code",
      "source": "#Solution 4\n\ndef factorial(FactNum):\n    \n    '''\n        This function takes one integer input and it calculates the factorial of a number recursively.\n    '''\n    \n    try:\n        Factorial = 0\n        if FactNum == 0:\n            return 1\n        return FactNum * factorial(FactNum-1)\n            \n    except Exception as e:\n        print('Error Occured : ',e)\n    \nprint(f'factorial(5) ➞ {factorial(5)}')\nprint(f'factorial(3) ➞ {factorial(3)}')\nprint(f'factorial(1) ➞ {factorial(1)}')\nprint(f'factorial(0) ➞ {factorial(0)}')",
      "metadata": {
        "trusted": true
      },
      "execution_count": 4,
      "outputs": [
        {
          "name": "stdout",
          "text": "factorial(5) ➞ 120\nfactorial(3) ➞ 6\nfactorial(1) ➞ 1\nfactorial(0) ➞ 1\n",
          "output_type": "stream"
        }
      ]
    },
    {
      "cell_type": "code",
      "source": "Q.5: Write a function that moves all elements of one type to the end of the list.\nExamples:\nmove_to_end([1, 3, 2, 4, 4, 1], 1) ➞ [3, 2, 4, 4, 1, 1]\n\n# Move all the 1s to the end of the array.    \nmove_to_end([7, 8, 9, 1, 2, 3, 4], 9) ➞ [7, 8, 1, 2, 3, 4, 9]\nmove_to_end([\"a\", \"a\", \"a\", \"b\"], \"a\") ➞ [\"b\", \"a\", \"a\", \"a\"]",
      "metadata": {},
      "execution_count": null,
      "outputs": []
    },
    {
      "cell_type": "code",
      "source": "#Solution 5\n\ndef move_to_end(List,Element):\n    \n    '''\n        This function takes two input(list,element to move) and it moves all elements of one type to the end of the list.\n    '''\n    \n    try:\n        for i in List:\n            if i == Element:\n                List.append(List.pop(List.index(Element)))\n        \n        print(f'move_to_end{List,Element} ➞ {List}')\n            \n    except Exception as e:\n        print('Error Occured : ',e)\n\nmove_to_end([1, 3, 2, 4, 4, 1], 1)\nmove_to_end([7, 8, 9, 1, 2, 3, 4], 9)\nmove_to_end([\"a\", \"a\", \"a\", \"b\"], \"a\")",
      "metadata": {
        "trusted": true
      },
      "execution_count": 5,
      "outputs": [
        {
          "name": "stdout",
          "text": "move_to_end([3, 2, 4, 4, 1, 1], 1) ➞ [3, 2, 4, 4, 1, 1]\nmove_to_end([7, 8, 1, 2, 3, 4, 9], 9) ➞ [7, 8, 1, 2, 3, 4, 9]\nmove_to_end(['b', 'a', 'a', 'a'], 'a') ➞ ['b', 'a', 'a', 'a']\n",
          "output_type": "stream"
        }
      ]
    },
    {
      "cell_type": "code",
      "source": "",
      "metadata": {},
      "execution_count": null,
      "outputs": []
    }
  ]
}