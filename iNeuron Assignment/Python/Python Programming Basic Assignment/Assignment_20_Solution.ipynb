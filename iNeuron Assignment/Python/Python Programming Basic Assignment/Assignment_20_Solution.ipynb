{
  "metadata": {
    "language_info": {
      "codemirror_mode": {
        "name": "python",
        "version": 3
      },
      "file_extension": ".py",
      "mimetype": "text/x-python",
      "name": "python",
      "nbconvert_exporter": "python",
      "pygments_lexer": "ipython3",
      "version": "3.8"
    },
    "kernelspec": {
      "name": "python",
      "display_name": "Pyolite",
      "language": "python"
    }
  },
  "nbformat_minor": 4,
  "nbformat": 4,
  "cells": [
    {
      "cell_type": "code",
      "source": "Q.1 : Create a function that takes a list of strings and integers, and filters out the list so that it returns a list of integers only.\nExamples:\nfilter_list([1, 2, 3, \"a\", \"b\", 4]) ➞ [1, 2, 3, 4]\nfilter_list([\"A\", 0, \"Edabit\", 1729, \"Python\", \"1729\"]) ➞ [0, 1729]\nfilter_list([\"Nothing\", \"here\"]) ➞ []",
      "metadata": {},
      "execution_count": null,
      "outputs": []
    },
    {
      "cell_type": "code",
      "source": "#Solution 1\n\ndef filter_list(AlphaNumericList):\n    \n    '''\n        This function takes a list of strings and integers, and filters out the list so that it returns a list of integers only.\n    '''\n    \n    try:\n        Result = [i for i in AlphaNumericList if type(i) == int]\n        \n        print(f'filter_list({AlphaNumericList}) ➞ {Result}')\n            \n    except Exception as e:\n        print('Error Occured : ',e)\n\nfilter_list([1, 2, 3, \"a\", \"b\", 4])\nfilter_list([\"A\", 0, \"Edabit\", 1729, \"Python\", \"1729\"])\nfilter_list([\"Nothing\", \"here\"])",
      "metadata": {
        "trusted": true
      },
      "execution_count": 1,
      "outputs": [
        {
          "name": "stdout",
          "text": "filter_list([1, 2, 3, 'a', 'b', 4]) ➞ [1, 2, 3, 4]\nfilter_list(['A', 0, 'Edabit', 1729, 'Python', '1729']) ➞ [0, 1729]\nfilter_list(['Nothing', 'here']) ➞ []\n",
          "output_type": "stream"
        }
      ]
    },
    {
      "cell_type": "code",
      "source": "Q.2 : Given a list of numbers, create a function which returns the list but with each element's index in the list added to itself. This means you add 0 to the number at index 0, add 1 to the number at index 1, etc...\nExamples:\nadd_indexes([0, 0, 0, 0, 0]) ➞ [0, 1, 2, 3, 4]\nadd_indexes([1, 2, 3, 4, 5]) ➞ [1, 3, 5, 7, 9]\nadd_indexes([5, 4, 3, 2, 1]) ➞ [5, 5, 5, 5, 5]",
      "metadata": {},
      "execution_count": null,
      "outputs": []
    },
    {
      "cell_type": "code",
      "source": "#Solution 2\n\ndef add_indexes(List):\n    \n    '''\n        This function takes a list of integers, and returns the list but with each element's index in the list added to itself. \n        This means you add 0 to the number at index 0, add 1 to the number at index 1, etc.\n    '''\n    \n    try:\n        Result = [List[i]+i for i in range(len(List))]\n        \n        print(f'add_indexes({List}) ➞ {Result}')\n            \n    except Exception as e:\n        print('Error Occured : ',e)\n\nadd_indexes([0, 0, 0, 0, 0])\nadd_indexes([1, 2, 3, 4, 5])\nadd_indexes([5, 4, 3, 2, 1])",
      "metadata": {
        "trusted": true
      },
      "execution_count": 2,
      "outputs": [
        {
          "name": "stdout",
          "text": "add_indexes([0, 0, 0, 0, 0]) ➞ [0, 1, 2, 3, 4]\nadd_indexes([1, 2, 3, 4, 5]) ➞ [1, 3, 5, 7, 9]\nadd_indexes([5, 4, 3, 2, 1]) ➞ [5, 5, 5, 5, 5]\n",
          "output_type": "stream"
        }
      ]
    },
    {
      "cell_type": "code",
      "source": "Q.3 : Create a function that takes the height and radius of a cone as arguments and returns the volume of the cone rounded to the nearest hundredth. See the resources tab for the formula.\nExamples:\ncone_volume(3, 2) ➞ 12.57\ncone_volume(15, 6) ➞ 565.49\ncone_volume(18, 0) ➞ 0\n\n# Paper folded 21 times is 1048576mm (equal to 1048.576m)",
      "metadata": {},
      "execution_count": null,
      "outputs": []
    },
    {
      "cell_type": "code",
      "source": "#Solution 3\n\nimport math\ndef cone_volume(ConeHeight,ConeRadius):\n    \n    '''\n        This function takes the height and radius of a cone as arguments \n        and returns the volume of the cone rounded to the nearest hundredth.\n    '''\n    \n    try:\n        ConeVolume = ((math.pi)*math.pow(ConeRadius,2))*(ConeHeight/3)\n        \n        print(f'cone_volume{ConeHeight,ConeRadius} ➞ {ConeVolume:.2f}')\n            \n    except Exception as e:\n        print('Error Occured : ',e)\n\ncone_volume(3, 2)\ncone_volume(15, 6)\ncone_volume(18, 0)",
      "metadata": {
        "trusted": true
      },
      "execution_count": 3,
      "outputs": [
        {
          "name": "stdout",
          "text": "cone_volume(3, 2) ➞ 12.57\ncone_volume(15, 6) ➞ 565.49\ncone_volume(18, 0) ➞ 0.00\n",
          "output_type": "stream"
        }
      ]
    },
    {
      "cell_type": "code",
      "source": "Q.4 : This Triangular Number Sequence is generated from a pattern of dots that form a triangle.\nThe first 5 numbers of the sequence, or dots, are: 1, 3, 6, 10, 15\nThis means that the first triangle has just one dot, the second one has three dots, the third one has 6 dots and so on. Write a function that gives the number of dots with its corresponding triangle number of the sequence.\n\nExamples:\ntriangle(1) ➞ 1\ntriangle(6) ➞ 21\ntriangle(215) ➞ 23220",
      "metadata": {},
      "execution_count": null,
      "outputs": []
    },
    {
      "cell_type": "code",
      "source": "#Solution 4\n\ndef triangle(Num):\n    \n    '''\n        This function takes a number input & gives the number of dots with its corresponding triangle number of the sequence.\n    '''\n    \n    try:\n        \n        print(f'triangle({Num}) ➞ {int(Num*((Num+1)/2))}')\n            \n    except Exception as e:\n        print('Error Occured : ',e)\n\ntriangle(1)\ntriangle(6)\ntriangle(215)",
      "metadata": {
        "trusted": true
      },
      "execution_count": 4,
      "outputs": [
        {
          "name": "stdout",
          "text": "triangle(1) ➞ 1\ntriangle(6) ➞ 21\ntriangle(215) ➞ 23220\n",
          "output_type": "stream"
        }
      ]
    },
    {
      "cell_type": "code",
      "source": "Q.5 : Create a function that takes a list of numbers between 1 and 10 (excluding one number) and returns the missing number.\nExamples:\nmissing_num([1, 2, 3, 4, 6, 7, 8, 9, 10]) ➞ 5\nmissing_num([7, 2, 3, 6, 5, 9, 1, 4, 8]) ➞ 10\nmissing_num([10, 5, 1, 2, 4, 6, 8, 3, 9]) ➞ 7",
      "metadata": {},
      "execution_count": null,
      "outputs": []
    },
    {
      "cell_type": "code",
      "source": "#Solution 5\n\ndef missing_num(List):\n    \n    '''\n        This function takes a list of numbers between 1 and 10 (excluding one number) and returns the missing number.\n    '''\n    \n    try:\n        for i in range(1,11):\n            if i not in List:\n                print(f'missing_num({List}) ➞ {i}')\n                break\n            \n    except Exception as e:\n        print('Error Occured : ',e)\n\nmissing_num([1, 2, 3, 4, 6, 7, 8, 9, 10])\nmissing_num([7, 2, 3, 6, 5, 9, 1, 4, 8])\nmissing_num([10, 5, 1, 2, 4, 6, 8, 3, 9])",
      "metadata": {
        "trusted": true
      },
      "execution_count": 5,
      "outputs": [
        {
          "name": "stdout",
          "text": "missing_num([1, 2, 3, 4, 6, 7, 8, 9, 10]) ➞ 5\nmissing_num([7, 2, 3, 6, 5, 9, 1, 4, 8]) ➞ 10\nmissing_num([10, 5, 1, 2, 4, 6, 8, 3, 9]) ➞ 7\n",
          "output_type": "stream"
        }
      ]
    },
    {
      "cell_type": "code",
      "source": "",
      "metadata": {},
      "execution_count": null,
      "outputs": []
    }
  ]
}