{
  "metadata": {
    "language_info": {
      "codemirror_mode": {
        "name": "python",
        "version": 3
      },
      "file_extension": ".py",
      "mimetype": "text/x-python",
      "name": "python",
      "nbconvert_exporter": "python",
      "pygments_lexer": "ipython3",
      "version": "3.8"
    },
    "kernelspec": {
      "name": "python",
      "display_name": "Pyolite",
      "language": "python"
    }
  },
  "nbformat_minor": 4,
  "nbformat": 4,
  "cells": [
    {
      "cell_type": "code",
      "source": "Q.1 : Create a function that takes three integer arguments (a, b, c) and returns the amount of integers which are of equal value.\nExamples:\nequal(3, 4, 3) ➞ 2\nequal(1, 1, 1) ➞ 3\nequal(3, 4, 1) ➞ 0\n\nNotes:\nYour function must return 0, 2 or 3.",
      "metadata": {},
      "execution_count": null,
      "outputs": []
    },
    {
      "cell_type": "code",
      "source": "#Solution 1\n\ndef equal(*args):\n    '''\n        This function that takes three integer arguments (a, b, c) and returns the amount of integers which are of equal value\n    '''\n    try:\n        Result = []\n        Result.append(args)\n        Result = sorted(Result[0])\n        for i in Result:\n            if Result.count(i)>1:\n                print(f'equal{args} ➞ {Result.count(i)}')\n                break\n        else:\n            print(f'equal{args} ➞ {0}')\n        \n    except Exception as e:\n        print('Error Occured : ',e)\n        \nequal(3, 4, 3)\nequal(1, 1, 1)\nequal(3, 4, 1)",
      "metadata": {
        "trusted": true
      },
      "execution_count": 1,
      "outputs": [
        {
          "name": "stdout",
          "text": "equal(3, 4, 3) ➞ 2\nequal(1, 1, 1) ➞ 3\nequal(3, 4, 1) ➞ 0\n",
          "output_type": "stream"
        }
      ]
    },
    {
      "cell_type": "code",
      "source": "Q.2 : Write a function that converts a dictionary into a list of keys-values tuples.\nExamples:\ndict_to_list({\n    \"D\": 1,\n    \"B\": 2,\n    \"C\": 3\n    }) ➞ [(\"B\", 2), (\"C\", 3), (\"D\", 1)]  \ndict_to_list({\n    \"likes\": 2,\n    \"dislikes\": 3,\n    \"followers\": 10\n    }) ➞ [(\"dislikes\", 3), (\"followers\", 10), (\"likes\", 2)]\n\nNotes:\nReturn the elements in the list in alphabetical order.",
      "metadata": {},
      "execution_count": null,
      "outputs": []
    },
    {
      "cell_type": "code",
      "source": "#Solution 2\n\ndef dict_to_list(Dict):\n    '''\n        This function takes a dictionary input & it converts a dictionary into a list of keys-values tuples.\n    '''\n    try:\n        \n        \n        print(f'dict_to_list({Dict}) ➞ {sorted(list(Dict.items()))}')\n        \n    except Exception as e:\n        print('Error Occured : ',e)\n        \ndict_to_list({\n    \"D\": 1,\n    \"B\": 2,\n    \"C\": 3\n    })\n\ndict_to_list({\n    \"likes\": 2,\n    \"dislikes\": 3,\n    \"followers\": 10\n    })",
      "metadata": {
        "trusted": true
      },
      "execution_count": 2,
      "outputs": [
        {
          "name": "stdout",
          "text": "dict_to_list({'D': 1, 'B': 2, 'C': 3}) ➞ [('B', 2), ('C', 3), ('D', 1)]\ndict_to_list({'likes': 2, 'dislikes': 3, 'followers': 10}) ➞ [('dislikes', 3), ('followers', 10), ('likes', 2)]\n",
          "output_type": "stream"
        }
      ]
    },
    {
      "cell_type": "code",
      "source": "Q.3 : Write a function that creates a dictionary with each (key, value) pair being the (lower case, upper case) versions of a letter, respectively.\nExamples:\nmapping([\"p\", \"s\"]) ➞ { \"p\": \"P\", \"s\": \"S\" }\nmapping([\"a\", \"b\", \"c\"]) ➞ { \"a\": \"A\", \"b\": \"B\", \"c\": \"C\" }\nmapping([\"a\", \"v\", \"y\", \"z\"]) ➞ { \"a\": \"A\", \"v\": \"V\", \"y\": \"Y\", \"z\": \"Z\" }\n\nNotes:\nAll of the letters in the input list will always be lowercase",
      "metadata": {},
      "execution_count": null,
      "outputs": []
    },
    {
      "cell_type": "code",
      "source": "#Solution 3\n\ndef mapping(List):\n    '''\n        This function takes a list of chars input & creates a dictionary with each (key, value) pair being the (lower case, upper case) versions of a letter, respectively.\n    '''\n    try:\n        TempDict = {}\n        for i in List:\n            TempDict[i] = i.upper()\n        \n        print(f'mapping({List}) ➞ {TempDict}')\n        \n    except Exception as e:\n        print('Error Occured : ',e)\n        \nmapping([\"p\", \"s\"])\nmapping([\"a\", \"b\", \"c\"])\nmapping([\"a\", \"v\", \"y\", \"z\"])",
      "metadata": {
        "trusted": true
      },
      "execution_count": 3,
      "outputs": [
        {
          "name": "stdout",
          "text": "mapping(['p', 's']) ➞ {'p': 'P', 's': 'S'}\nmapping(['a', 'b', 'c']) ➞ {'a': 'A', 'b': 'B', 'c': 'C'}\nmapping(['a', 'v', 'y', 'z']) ➞ {'a': 'A', 'v': 'V', 'y': 'Y', 'z': 'Z'}\n",
          "output_type": "stream"
        }
      ]
    },
    {
      "cell_type": "code",
      "source": "Q.4 : Write a function, that replaces all vowels in a string with a specified vowel.\nExamples:\nvow_replace(\"apples and bananas\", \"u\") ➞ \"upplus und bununus\"\nvow_replace(\"cheese casserole\", \"o\") ➞ \"chooso cossorolo\"\nvow_replace(\"stuffed jalapeno poppers\", \"e\") ➞ \"steffed jelepene peppers\"\n\nNotes:\nAll words will be lowercase. Y is not considered a vowel.",
      "metadata": {},
      "execution_count": null,
      "outputs": []
    },
    {
      "cell_type": "code",
      "source": "#Solution 4\n\ndef vow_replace(String,CharToReplace):\n    '''\n        This function takes two input(string & char) & it replaces all vowels in a string with a specified vowel.\n    '''\n    try:\n        Vowels = \"aeiou\"\n        OrgString = String\n        for i in String:\n            if i in Vowels:\n                String = String.replace(i,CharToReplace)\n        \n        print(f'vow_replace{OrgString,CharToReplace} ➞ {String}')\n        \n    except Exception as e:\n        print('Error Occured : ',e)\n        \nvow_replace(\"apples and bananas\", \"u\")\nvow_replace(\"cheese casserole\", \"o\")\nvow_replace(\"stuffed jalapeno poppers\", \"e\")",
      "metadata": {
        "trusted": true
      },
      "execution_count": 4,
      "outputs": [
        {
          "name": "stdout",
          "text": "vow_replace('apples and bananas', 'u') ➞ upplus und bununus\nvow_replace('cheese casserole', 'o') ➞ chooso cossorolo\nvow_replace('stuffed jalapeno poppers', 'e') ➞ steffed jelepene peppers\n",
          "output_type": "stream"
        }
      ]
    },
    {
      "cell_type": "code",
      "source": "Q.5 : Create a function that takes a string as input and capitalizes a letter if its ASCII code is even and returns its lower case version if its ASCII code is odd.\nExamples:\nascii_capitalize(\"to be or not to be!\") ➞ \"To Be oR NoT To Be!\"\nascii_capitalize(\"THE LITTLE MERMAID\") ➞ \"THe LiTTLe meRmaiD\"\nascii_capitalize(\"Oh what a beautiful morning.\") ➞ \"oH wHaT a BeauTiFuL moRNiNg.\"",
      "metadata": {},
      "execution_count": null,
      "outputs": []
    },
    {
      "cell_type": "code",
      "source": "#Solution 5\n\ndef ascii_capitalize(String):\n    '''\n        This function takes a string as input and capitalizes a letter if its ASCII code is even and returns its lower case version if its ASCII code is odd.\n    '''\n    try:\n        ASCIIString = String\n        for i in String:\n            if ord(i)%2 == 0:\n                String = String.replace(i,i.upper())\n            else:\n                String = String.replace(i,i.lower())\n        print(f'ascii_capitalize({ASCIIString}) ➞ {String}')\n        \n    except Exception as e:\n        print('Error Occured : ',e)\n        \nascii_capitalize(\"to be or not to be!\")\nascii_capitalize(\"THE LITTLE MERMAID\")\nascii_capitalize(\"Oh what a beautiful morning.\")",
      "metadata": {
        "trusted": true
      },
      "execution_count": 5,
      "outputs": [
        {
          "name": "stdout",
          "text": "ascii_capitalize(to be or not to be!) ➞ To Be oR NoT To Be!\nascii_capitalize(THE LITTLE MERMAID) ➞ THe LiTTLe meRmaiD\nascii_capitalize(Oh what a beautiful morning.) ➞ oH wHaT a BeauTiFuL moRNiNg.\n",
          "output_type": "stream"
        }
      ]
    },
    {
      "cell_type": "code",
      "source": "",
      "metadata": {},
      "execution_count": null,
      "outputs": []
    }
  ]
}