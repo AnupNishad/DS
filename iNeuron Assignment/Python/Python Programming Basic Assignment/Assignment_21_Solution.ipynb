{
  "metadata": {
    "language_info": {
      "codemirror_mode": {
        "name": "python",
        "version": 3
      },
      "file_extension": ".py",
      "mimetype": "text/x-python",
      "name": "python",
      "nbconvert_exporter": "python",
      "pygments_lexer": "ipython3",
      "version": "3.8"
    },
    "kernelspec": {
      "name": "python",
      "display_name": "Pyolite",
      "language": "python"
    }
  },
  "nbformat_minor": 4,
  "nbformat": 4,
  "cells": [
    {
      "cell_type": "code",
      "source": "Q.1 : Write a function that takes a list and a number as arguments. Add the number to the end of the list, then remove the first element of the list. The function should then return the updated list.\nExamples:\nnext_in_line([5, 6, 7, 8, 9], 1) ➞ [6, 7, 8, 9, 1]\nnext_in_line([7, 6, 3, 23, 17], 10) ➞ [6, 3, 23, 17, 10]\nnext_in_line([1, 10, 20, 42 ], 6) ➞ [10, 20, 42, 6]\nnext_in_line([], 6) ➞ \"No list has been selected\"",
      "metadata": {},
      "execution_count": null,
      "outputs": []
    },
    {
      "cell_type": "code",
      "source": "#Solution 1\n\ndef next_in_line(List,ElementToAdd):\n    \n    '''\n        This function takes a list and a number as arguments. Add the number to the end of the list, then remove the first element of the list. \n        The function should then return the updated list.\n    '''\n    \n    try:\n        OrgList = List.copy()\n        List.append(ElementToAdd)\n        List.pop(0)\n        \n        print(f'next_in_line{OrgList,ElementToAdd} ➞ {List if List else \"No list has been selected\"}')\n            \n    except Exception as e:\n        print('Error Occured : ',e)\n\nnext_in_line([5, 6, 7, 8, 9], 1)\nnext_in_line([7, 6, 3, 23, 17], 10)\nnext_in_line([1, 10, 20, 42 ], 6)\nnext_in_line([], 6)",
      "metadata": {
        "trusted": true
      },
      "execution_count": 1,
      "outputs": [
        {
          "name": "stdout",
          "text": "next_in_line([5, 6, 7, 8, 9], 1) ➞ [6, 7, 8, 9, 1]\nnext_in_line([7, 6, 3, 23, 17], 10) ➞ [6, 3, 23, 17, 10]\nnext_in_line([1, 10, 20, 42], 6) ➞ [10, 20, 42, 6]\nnext_in_line([], 6) ➞ No list has been selected\n",
          "output_type": "stream"
        }
      ]
    },
    {
      "cell_type": "code",
      "source": "Q.2 : Create the function that takes a list of dictionaries and returns the sum of people's budgets.\nExamples:\nget_budgets([\n{ \"name\": \"John\", \"age\": 21, \"budget\": 23000 },\n{ \"name\": \"Steve\", \"age\": 32, \"budget\": 40000 },\n{ \"name\": \"Martin\", \"age\": 16, \"budget\": 2700 }\n]) ➞ 65700\n\nget_budgets([\n{ \"name\": \"John\", \"age\": 21, \"budget\": 29000 },\n{ \"name\": \"Steve\", \"age\": 32, \"budget\": 32000 },\n{ \"name\": \"Martin\", \"age\": 16, \"budget\": 1600 }\n]) ➞ 62600",
      "metadata": {},
      "execution_count": null,
      "outputs": []
    },
    {
      "cell_type": "code",
      "source": "#Solution 2\n\ndef get_budgets(ListOfDict):\n    \n    '''\n        This function takes a list of dictionaries and returns the sum of people's budgets.\n    '''\n    \n    try:\n        Result = []\n        for i in range(len(ListOfDict)):\n            Result.append(ListOfDict[i][\"budget\"])\n        \n        print(f'get_budgets({ListOfDict}) ➞ {sum(Result)}')\n            \n    except Exception as e:\n        print('Error Occured : ',e)\n\nget_budgets([\n{ \"name\": \"John\", \"age\": 21, \"budget\": 23000 },\n{ \"name\": \"Steve\", \"age\": 32, \"budget\": 40000 },\n{ \"name\": \"Martin\", \"age\": 16, \"budget\": 2700 }\n])\n\nget_budgets([\n{ \"name\": \"John\", \"age\": 21, \"budget\": 29000 },\n{ \"name\": \"Steve\", \"age\": 32, \"budget\": 32000 },\n{ \"name\": \"Martin\", \"age\": 16, \"budget\": 1600 }\n])",
      "metadata": {
        "trusted": true
      },
      "execution_count": 2,
      "outputs": [
        {
          "name": "stdout",
          "text": "get_budgets([{'name': 'John', 'age': 21, 'budget': 23000}, {'name': 'Steve', 'age': 32, 'budget': 40000}, {'name': 'Martin', 'age': 16, 'budget': 2700}]) ➞ 65700\nget_budgets([{'name': 'John', 'age': 21, 'budget': 29000}, {'name': 'Steve', 'age': 32, 'budget': 32000}, {'name': 'Martin', 'age': 16, 'budget': 1600}]) ➞ 62600\n",
          "output_type": "stream"
        }
      ]
    },
    {
      "cell_type": "code",
      "source": "Q.3 : Create a function that takes a string and returns a string with its letters in alphabetical order.\nExamples:\nalphabet_soup(\"hello\") ➞ \"ehllo\"\nalphabet_soup(\"edabit\") ➞ \"abdeit\"\nalphabet_soup(\"hacker\") ➞ \"acehkr\"\nalphabet_soup(\"geek\") ➞ \"eegk\"\nalphabet_soup(\"javascript\") ➞ \"aacijprstv\"",
      "metadata": {},
      "execution_count": null,
      "outputs": []
    },
    {
      "cell_type": "code",
      "source": "#Solution 3\n\ndef alphabet_soup(String):\n    \n    '''\n        This function takes a string and returns a string with its letters in alphabetical order.\n    '''\n    \n    try:\n        \n        print(f'alphabet_soup({String}) ➞ {\"\".join(sorted(String))}')\n            \n    except Exception as e:\n        print('Error Occured : ',e)\n\nalphabet_soup(\"hello\")\nalphabet_soup(\"edabit\")\nalphabet_soup(\"hacker\")\nalphabet_soup(\"geek\")\nalphabet_soup(\"javascript\")",
      "metadata": {
        "trusted": true
      },
      "execution_count": 3,
      "outputs": [
        {
          "name": "stdout",
          "text": "alphabet_soup(hello) ➞ ehllo\nalphabet_soup(edabit) ➞ abdeit\nalphabet_soup(hacker) ➞ acehkr\nalphabet_soup(geek) ➞ eegk\nalphabet_soup(javascript) ➞ aacijprstv\n",
          "output_type": "stream"
        }
      ]
    },
    {
      "cell_type": "code",
      "source": "Q.4 : What will be the value of your investment at the end of the 10 year period?\nCreate a function that accepts the principal p, the term in years t, the interest rate r, and the number of compounding periods per year n. The function returns the value at the end of term rounded to the nearest cent.\n\nFor the example above:\ncompound_interest(10000, 10, 0.06, 12) ➞ 18193.97\nNote that the interest rate is given as a decimal and n=12 because with monthly compounding there are 12 periods per year. Compounding can also be done annually, quarterly, weekly, or daily.\n\nExamples:\ncompound_interest(100, 1, 0.05, 1) ➞ 105.0\ncompound_interest(3500, 15, 0.1, 4) ➞ 15399.26\ncompound_interest(100000, 20, 0.15, 365) ➞ 2007316.26",
      "metadata": {},
      "execution_count": null,
      "outputs": []
    },
    {
      "cell_type": "code",
      "source": "#Solution 4\n\ndef compound_interest(P,Y,R,CP): #P - Principla Amount,Y - Years, R - Rate of Interest, CP - Number of times interest is compounded per year\n    \n    '''\n        This function accepts the principal p, the term in years t, the interest rate r, and the number of compounding periods per year n. \n        & it returns the value at the end of term rounded to the nearest cent.\n    '''\n    \n    try:\n        \n        CI = P*(1+(R/CP))**(CP*Y)\n        print(f'compound_interest{P,Y,R,CP} ➞ {CI:.2f}')\n            \n    except Exception as e:\n        print('Error Occured : ',e)\n\ncompound_interest(10000, 10, 0.06, 12)\ncompound_interest(100, 1, 0.05, 1)\ncompound_interest(3500, 15, 0.1, 4)\ncompound_interest(100000, 20, 0.15, 365)",
      "metadata": {
        "trusted": true
      },
      "execution_count": 4,
      "outputs": [
        {
          "name": "stdout",
          "text": "compound_interest(10000, 10, 0.06, 12) ➞ 18193.97\ncompound_interest(100, 1, 0.05, 1) ➞ 105.00\ncompound_interest(3500, 15, 0.1, 4) ➞ 15399.26\ncompound_interest(100000, 20, 0.15, 365) ➞ 2007316.26\n",
          "output_type": "stream"
        }
      ]
    },
    {
      "cell_type": "code",
      "source": "Q.5 : Write a function that takes a list of elements and returns only the integers.\nExamples:\nreturn_only_integer([9, 2, \"space\", \"car\", \"lion\", 16]) ➞ [9, 2, 16]\nreturn_only_integer([\"hello\", 81, \"basketball\", 123, \"fox\"]) ➞ [81, 123]\nreturn_only_integer([10, \"121\", 56, 20, \"car\", 3, \"lion\"]) ➞ [10, 56, 20,3]\nreturn_only_integer([\"String\", True, 3.3, 1]) ➞ [1]",
      "metadata": {},
      "execution_count": null,
      "outputs": []
    },
    {
      "cell_type": "code",
      "source": "#Solution 5\n\ndef return_only_integer(AlphaNumList): \n    \n    '''\n        This function takes a list of elements and returns only the integers.\n    '''\n    \n    try:\n        Result = []\n        for i in AlphaNumList:\n            if type(i) == int:\n                Result.append(i)\n        \n        print(f'return_only_integer({AlphaNumList}) ➞ {Result}')\n            \n    except Exception as e:\n        print('Error Occured : ',e)\n\nreturn_only_integer([9, 2, \"space\", \"car\", \"lion\", 16])\nreturn_only_integer([\"hello\", 81, \"basketball\", 123, \"fox\"])\nreturn_only_integer([10, \"121\", 56, 20, \"car\", 3, \"lion\"])\nreturn_only_integer([\"String\", True, 3.3, 1])",
      "metadata": {
        "trusted": true
      },
      "execution_count": 5,
      "outputs": [
        {
          "name": "stdout",
          "text": "return_only_integer([9, 2, 'space', 'car', 'lion', 16]) ➞ [9, 2, 16]\nreturn_only_integer(['hello', 81, 'basketball', 123, 'fox']) ➞ [81, 123]\nreturn_only_integer([10, '121', 56, 20, 'car', 3, 'lion']) ➞ [10, 56, 20, 3]\nreturn_only_integer(['String', True, 3.3, 1]) ➞ [1]\n",
          "output_type": "stream"
        }
      ]
    },
    {
      "cell_type": "code",
      "source": "",
      "metadata": {},
      "execution_count": null,
      "outputs": []
    }
  ]
}