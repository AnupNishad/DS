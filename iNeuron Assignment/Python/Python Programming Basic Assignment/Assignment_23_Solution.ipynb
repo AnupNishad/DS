{
  "metadata": {
    "language_info": {
      "codemirror_mode": {
        "name": "python",
        "version": 3
      },
      "file_extension": ".py",
      "mimetype": "text/x-python",
      "name": "python",
      "nbconvert_exporter": "python",
      "pygments_lexer": "ipython3",
      "version": "3.8"
    },
    "kernelspec": {
      "name": "python",
      "display_name": "Pyolite",
      "language": "python"
    }
  },
  "nbformat_minor": 4,
  "nbformat": 4,
  "cells": [
    {
      "cell_type": "code",
      "source": "Q.1 : Create a function that takes a number as an argument and returns True or False depending on whether the number is symmetrical or not. A number is symmetrical when it is the same as its reverse.\nExamples:\nis_symmetrical(7227) ➞ True\nis_symmetrical(12567) ➞ False\nis_symmetrical(44444444) ➞ True\nis_symmetrical(9939) ➞ False\nis_symmetrical(1112111) ➞ True",
      "metadata": {},
      "execution_count": null,
      "outputs": []
    },
    {
      "cell_type": "code",
      "source": "#Solution 1\n\ndef is_symmetrical(Num):\n    '''\n        This function takes a number as an argument and returns True or False depending on whether the number is symmetrical or not. \n        A number is symmetrical when it is the same as its reverse.\n    '''\n    try:\n        \n        print(f'is_symmetrical({Num}) ➞ {True if str(Num)[::-1] == str(Num) else False}')\n        \n    except Exception as e:\n        print('Error Occured : ',e)\n        \nis_symmetrical(7227)\nis_symmetrical(12567)\nis_symmetrical(44444444)\nis_symmetrical(9939)\nis_symmetrical(1112111)",
      "metadata": {
        "trusted": true
      },
      "execution_count": 1,
      "outputs": [
        {
          "name": "stdout",
          "text": "is_symmetrical(7227) ➞ True\nis_symmetrical(12567) ➞ False\nis_symmetrical(44444444) ➞ True\nis_symmetrical(9939) ➞ False\nis_symmetrical(1112111) ➞ True\n",
          "output_type": "stream"
        }
      ]
    },
    {
      "cell_type": "code",
      "source": "Q.2 : Given a string of numbers separated by a comma and space, return the product of the numbers.\nExamples:\nmultiply_nums(\"2, 3\") ➞ 6\nmultiply_nums(\"1, 2, 3, 4\") ➞ 24\nmultiply_nums(\"54, 75, 453, 0\") ➞ 0\nmultiply_nums(\"10, -2\") ➞ -20",
      "metadata": {},
      "execution_count": null,
      "outputs": []
    },
    {
      "cell_type": "code",
      "source": "#Solution 2\n\ndef multiply_nums(String):\n    '''\n        This function takes a string of numbers separated by a comma and space, return the product of the numbers.\n    '''\n    try:\n        ElementProduct = 1\n        for i in String.split(\", \"):\n            ElementProduct = ElementProduct*int(i)\n        \n        print(f'multiply_nums({String}) ➞ {ElementProduct}')\n        \n    except Exception as e:\n        print('Error Occured : ',e)\n        \nmultiply_nums(\"2, 3\")\nmultiply_nums(\"1, 2, 3, 4\")\nmultiply_nums(\"54, 75, 453, 0\")\nmultiply_nums(\"10, -2\")",
      "metadata": {
        "trusted": true
      },
      "execution_count": 2,
      "outputs": [
        {
          "name": "stdout",
          "text": "multiply_nums(2, 3) ➞ 6\nmultiply_nums(1, 2, 3, 4) ➞ 24\nmultiply_nums(54, 75, 453, 0) ➞ 0\nmultiply_nums(10, -2) ➞ -20\n",
          "output_type": "stream"
        }
      ]
    },
    {
      "cell_type": "code",
      "source": "Q.3 : Create a function that squares every digit of a number.\nExamples:\nsquare_digits(9119) ➞ 811181\nsquare_digits(2483) ➞ 416649\nsquare_digits(3212) ➞ 9414\n\nNotes:\nThe function receives an integer and must return an integer.",
      "metadata": {},
      "execution_count": null,
      "outputs": []
    },
    {
      "cell_type": "code",
      "source": "#Solution 3\n\ndef square_digits(Num):\n    '''\n        This function takes a number input & return squares every digit of a number.\n    '''\n    try:\n        DigitSquare = \"\"\n        for i in range(len(str(Num))):\n            DigitSquare = DigitSquare+str((pow(int(str(Num)[i]),2)))\n        \n        print(f'square_digits({Num}) ➞ {int(DigitSquare)}')\n        \n    except Exception as e:\n        print('Error Occured : ',e)\n        \nsquare_digits(9119)\nsquare_digits(2483)\nsquare_digits(3212)",
      "metadata": {
        "trusted": true
      },
      "execution_count": 3,
      "outputs": [
        {
          "name": "stdout",
          "text": "square_digits(9119) ➞ 811181\nsquare_digits(2483) ➞ 416649\nsquare_digits(3212) ➞ 9414\n",
          "output_type": "stream"
        }
      ]
    },
    {
      "cell_type": "code",
      "source": "Q.4 : Create a function that sorts a list and removes all duplicate items from it.\nExamples:\nsetify([1, 3, 3, 5, 5]) ➞ [1, 3, 5]\nsetify([4, 4, 4, 4]) ➞ [4]\nsetify([5, 7, 8, 9, 10, 15]) ➞ [5, 7, 8, 9, 10, 15]\nsetify([3, 3, 3, 2, 1]) ➞ [1, 2, 3]",
      "metadata": {},
      "execution_count": null,
      "outputs": []
    },
    {
      "cell_type": "code",
      "source": "#Solution 4\n\ndef setify(List):\n    '''\n        This function takes a list input & it sorts input list and removes all duplicate items from it.\n    '''\n    try:\n        \n        print(f'setify({List}) ➞ {sorted(set(List))}')\n        \n    except Exception as e:\n        print('Error Occured : ',e)\n        \nsetify([1, 3, 3, 5, 5])\nsetify([4, 4, 4, 4])\nsetify([5, 7, 8, 9, 10, 15])\nsetify([3, 3, 3, 2, 1]) ",
      "metadata": {
        "trusted": true
      },
      "execution_count": 4,
      "outputs": [
        {
          "name": "stdout",
          "text": "setify([1, 3, 3, 5, 5]) ➞ [1, 3, 5]\nsetify([4, 4, 4, 4]) ➞ [4]\nsetify([5, 7, 8, 9, 10, 15]) ➞ [5, 7, 8, 9, 10, 15]\nsetify([3, 3, 3, 2, 1]) ➞ [1, 2, 3]\n",
          "output_type": "stream"
        }
      ]
    },
    {
      "cell_type": "code",
      "source": "Q.5 : Create a function that returns the mean of all digits.\nExamples:\nmean(42) ➞ 3\nmean(12345) ➞ 3\nmean(666) ➞ 6\n\nNotes:\n1.The mean of all digits is the sum of digits / how many digits there are (e.g. mean of digits in 512 is (5+1+2)/3(number of digits) = 8/3=2).\n2.The mean will always be an integer.",
      "metadata": {},
      "execution_count": null,
      "outputs": []
    },
    {
      "cell_type": "code",
      "source": "#Solution 5\n\ndef mean(Num):\n    '''\n        This function takes a number input & returns the mean of all digits\n    '''\n    try:\n        Mean = 0\n        for i in str(Num):\n            Mean = Mean+(int(i))\n            \n        print(f'mean({Num}) ➞ {Mean/len(str(Num)):.0f}')\n        \n    except Exception as e:\n        print('Error Occured : ',e)\n        \nmean(42)\nmean(12345)\nmean(666)",
      "metadata": {
        "trusted": true
      },
      "execution_count": 5,
      "outputs": [
        {
          "name": "stdout",
          "text": "mean(42) ➞ 3\nmean(12345) ➞ 3\nmean(666) ➞ 6\n",
          "output_type": "stream"
        }
      ]
    },
    {
      "cell_type": "code",
      "source": "",
      "metadata": {},
      "execution_count": null,
      "outputs": []
    }
  ]
}