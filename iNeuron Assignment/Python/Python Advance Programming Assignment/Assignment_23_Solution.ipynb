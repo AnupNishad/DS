{
  "metadata": {
    "language_info": {
      "codemirror_mode": {
        "name": "python",
        "version": 3
      },
      "file_extension": ".py",
      "mimetype": "text/x-python",
      "name": "python",
      "nbconvert_exporter": "python",
      "pygments_lexer": "ipython3",
      "version": "3.8"
    },
    "kernelspec": {
      "name": "python",
      "display_name": "Pyolite",
      "language": "python"
    }
  },
  "nbformat_minor": 4,
  "nbformat": 4,
  "cells": [
    {
      "cell_type": "markdown",
      "source": "Q.1 : Create a class Sudoku that takes a string as an argument. The string will contain the numbers of a regular 9x9 sudoku board left to right and top to bottom, with zeros filling up the empty cells. Attributes:\n\nAn instance of the class Sudoku will have one attribute:\n\nboard: a list representing the board, with sublits for each row, with the numbers as integers. Empty cell represented with 0. Methods:\n\nAn instance of the class Sudoku wil have three methods:\n\nget_row(n): will return the row in position n. get_col(n): will return the column in position n. get_sqr([n, m]): will return the square in position n if only one argument is given, and the square to which the cell in position (n, m) belongs to if two arguments are given.",
      "metadata": {}
    },
    {
      "cell_type": "code",
      "source": "# Solution 1\n\nclass Sudoku:\n    try:\n        def __init__(self,String):\n            self.board = []\n            for i in range(0,len(String),9):\n                self.Temp = []\n                for j in String[i:i+9]:\n                    self.Temp.append(int(j))\n                self.board.append(self.Temp)\n                    \n        def get_row(self,row):\n            return self.board[row]\n        \n        def get_col(self,column):\n            Result = []\n            for i in self.board:\n                Result.append(i[column])\n            return Result\n        \n        def get_sqr(self,row,column=None):\n            Result = []\n            square_to_cell = {\n                0 : [[0,1,2],[0,1,2]],\n                1 : [[0,1,2],[3,4,5]],\n                2 : [[0,1,2],[6,7,8]],\n                3 : [[3,4,5],[0,1,2]],\n                4 : [[3,4,5],[3,4,5]],\n                5 : [[3,4,5],[6,7,8]],\n                6 : [[6,7,8],[0,1,2]],\n                7 : [[6,7,8],[3,4,5]],\n                8 : [[6,7,8],[6,7,8]]\n            }\n\n            if column == None:\n                for i in square_to_cell[row][0]:\n                    for j in square_to_cell[row][1]:\n                        Result.append(self.board[i][j])\n            else:\n                square = None\n                if row <= 2:\n                    square = 0 if column <=2 else 1 if column <=5 else 2\n                elif row <= 5:\n                    square = 3 if column <=2 else 4 if column <=5 else 5\n                else:\n                    square = 6 if column <=2 else 7 if column <=5 else 8\n                for i in square_to_cell[square][0]:\n                    for j in square_to_cell[square][1]:\n                        Result.append(self.board[i][j])\n            return (Result)\n            \n    except Exception as e:\n        print('Error Occured : ',e) \n    \ntry:\n\n    game = Sudoku(\"417950030000000700060007000050009106800600000000003400900005000000430000200701580\")\n    display(game.board)\n    print(f'game.get_row(0) ➞ {game.get_row(0)}')\n    print(f'game.get_col(8) ➞ {game.get_col(8)}')\n    print(f'game.get_sqr(1) ➞ {game.get_sqr(1)}')\n    print(f'game.get_sqr(1,8) ➞ {game.get_sqr(1,8)}')\n    print(f'game.get_sqr(8,3) ➞ {game.get_sqr(8,3)}')\n    \nexcept Exception as e:\n    print('Error Occured : ',e)",
      "metadata": {
        "trusted": true
      },
      "execution_count": 1,
      "outputs": [
        {
          "output_type": "display_data",
          "data": {
            "text/plain": "[[4, 1, 7, 9, 5, 0, 0, 3, 0],\n [0, 0, 0, 0, 0, 0, 7, 0, 0],\n [0, 6, 0, 0, 0, 7, 0, 0, 0],\n [0, 5, 0, 0, 0, 9, 1, 0, 6],\n [8, 0, 0, 6, 0, 0, 0, 0, 0],\n [0, 0, 0, 0, 0, 3, 4, 0, 0],\n [9, 0, 0, 0, 0, 5, 0, 0, 0],\n [0, 0, 0, 4, 3, 0, 0, 0, 0],\n [2, 0, 0, 7, 0, 1, 5, 8, 0]]"
          },
          "metadata": {}
        },
        {
          "name": "stdout",
          "text": "game.get_row(0) ➞ [4, 1, 7, 9, 5, 0, 0, 3, 0]\ngame.get_col(8) ➞ [0, 0, 0, 6, 0, 0, 0, 0, 0]\ngame.get_sqr(1) ➞ [9, 5, 0, 0, 0, 0, 0, 0, 7]\ngame.get_sqr(1,8) ➞ [0, 3, 0, 7, 0, 0, 0, 0, 0]\ngame.get_sqr(8,3) ➞ [0, 0, 5, 4, 3, 0, 7, 0, 1]\n",
          "output_type": "stream"
        }
      ]
    },
    {
      "cell_type": "code",
      "source": "",
      "metadata": {},
      "execution_count": null,
      "outputs": []
    },
    {
      "cell_type": "markdown",
      "source": "Q.2 : The function input is two non-empty linked lists representing two non- negative integers. The digits are stored in reverse order, and each of their nodes contains a single digit. Add the two numbers and return the sum as a linked list, in which the digits are also stored in reversed order. The class ListNode, building block of the linked list, is defined in the Tests tab. Class definition class ListNode: def init(self, val=0, next=None): self.val = val self.next = next",
      "metadata": {}
    },
    {
      "cell_type": "code",
      "source": "# Solution 2\n\nclass ListNode:\n    def __init__(self, val=0, next=None):\n        self.val = val\n        self.next = next\n        self.LinkedList = []\n        self.LinkedList.append(val)\n        \n    def add_data(self,List):\n        self.LinkedList.extend(List)\n    \n    def get_data(self):\n        return self.LinkedList\n    \nclass add_two_numbers:\n    def __init__(self,ListNodeObj1,ListNodeObj2):\n        self.ListNodeObj1 = ListNodeObj1\n        self.ListNodeObj2 = ListNodeObj2\n    \n    def get_data(self):\n        it1,it2 = \"\",\"\"\n        it3,it4 = [],[]\n        for i in self.ListNodeObj1.get_data()[::-1]:\n            it3.append(str(i))\n        it1 = ''.join(it3)\n        \n        for j in self.ListNodeObj2.get_data()[::-1]:\n            it4.append(str(j))\n        it2 = ''.join(it4)\n        \n        Result = []  \n        for k in str(int(it1)+int(it2))[::-1]:\n            Result.append(int(k))\n        return Result\n \ntry:\n    lt1 = ListNode(2)\n    lt1.add_data([4, 3])\n\n    lt2 = ListNode(5)\n    lt2.add_data([6, 4])\n\n    print(f'lt1.get_data() ➞ {lt1.get_data()}') \n    print(f'lt2.get_data() ➞ {lt2.get_data()}') \n    print(f'add_two_numbers(lt1, lt2).get_data() ➞ {add_two_numbers(lt1, lt2).get_data()}',end='\\n\\n')\n\n    lt1 = ListNode(0)\n    lt2 = ListNode(0)\n\n    print(f'lt1.get_data() ➞ {lt1.get_data()}') \n    print(f'lt2.get_data() ➞ {lt2.get_data()}') \n    print(f'add_two_numbers(lt1, lt2).get_data() ➞ {add_two_numbers(lt1, lt2).get_data()}',end='\\n\\n')\n\n    lt1 = ListNode(9)\n    lt1.add_data([9,9,9,9,9,9])\n\n    lt2 = ListNode(9)\n    lt2.add_data([9,9,9])\n\n    print(f'lt1.get_data() ➞ {lt1.get_data()}') \n    print(f'lt2.get_data() ➞ {lt2.get_data()}') \n    print(f'add_two_numbers(lt1, lt2).get_data() ➞ {add_two_numbers(lt1, lt2).get_data()}')\n    \nexcept Exception as e:\n    print('Error Occured : ',e)",
      "metadata": {
        "trusted": true
      },
      "execution_count": 2,
      "outputs": [
        {
          "name": "stdout",
          "text": "lt1.get_data() ➞ [2, 4, 3]\nlt2.get_data() ➞ [5, 6, 4]\nadd_two_numbers(lt1, lt2).get_data() ➞ [7, 0, 8]\n\nlt1.get_data() ➞ [0]\nlt2.get_data() ➞ [0]\nadd_two_numbers(lt1, lt2).get_data() ➞ [0]\n\nlt1.get_data() ➞ [9, 9, 9, 9, 9, 9, 9]\nlt2.get_data() ➞ [9, 9, 9, 9]\nadd_two_numbers(lt1, lt2).get_data() ➞ [8, 9, 9, 9, 0, 0, 0, 1]\n",
          "output_type": "stream"
        }
      ]
    },
    {
      "cell_type": "code",
      "source": "",
      "metadata": {},
      "execution_count": null,
      "outputs": []
    },
    {
      "cell_type": "markdown",
      "source": "Q.3 : Write a class called CoffeeShop, which has three instance variables: name : a string (basically, of the shop) menu : a list of items (of dict type), with each item containing the item (name of the item), type (whether a food or a drink) and price. orders : an empty list and seven methods:\n\nadd_order: adds the name of the item to the end of the orders list if it exists on the menu, otherwise, return \"This item is currently unavailable!\" fulfill_order: if the orders list is not empty, return \"The {item} is ready!\". If the orders list is empty, return \"All orders have been fulfilled!\" list_orders: returns the item names of the orders taken, otherwise, an empty list. due_amount: returns the total amount due for the orders taken. cheapest_item: returns the name of the cheapest item on the menu. drinks_only: returns only the item names of type drink from the menu. food_only: returns only the item names of type food from the menu. IMPORTANT: Orders are fulfilled in a FIFO (first-in, first-out) order.",
      "metadata": {}
    },
    {
      "cell_type": "code",
      "source": "# Solution 3\n\nclass CoffeeShop:\n    try:\n        def __init__(self,name,menu,orders = []):\n            self.name = name\n            self.menu = menu\n            self.orders = orders\n                    \n        def add_order(self,OrderName):\n            for i in self.menu:\n                Msg = \"\"\n                if i['name'] != OrderName.title():\n                    Msg = Msg+\"This item is currently unavailable!\"\n                else:\n                    self.orders.append(OrderName.title())\n                    Msg = Msg+\"Order added!\"\n                    break\n            return Msg\n        \n        def fulfill_order(self):\n            Msg = \"\"\n            if not self.orders:\n                Msg = Msg+f'All orders have been fulfilled!'\n            else:\n                Msg = Msg+f'The {self.orders.pop(0)} is ready!'\n                \n            return Msg\n                    \n        \n        def list_orders(self):\n            return self.orders\n        \n        def due_amount(self):\n            DueAmount = 0\n            for i in range(len(self.menu)):\n                for j in range(len(self.orders)):\n                    if self.menu[i]['name'] == self.orders[j].title():\n                        DueAmount =DueAmount+self.menu[i]['price']\n            return (DueAmount)\n        \n        def cheapest_item(self):\n            Prices = []\n            for i in range(len(self.menu)):\n                Prices.append(self.menu[i]['price'])\n            for j in range(len(self.menu)):\n                if min(Prices) == self.menu[j]['price']:\n                    return (self.menu[j]['name'])\n        \n        def drinks_only(self):\n            DrinksOnly = []\n            for i in range(len(Menu)):\n                if Menu[i]['type'] == 'drink':\n                    DrinksOnly.append(Menu[i]['name'])\n            return (DrinksOnly)\n        \n        def food_only(self):\n            FoodOnly = []\n            for i in range(len(Menu)):\n                if Menu[i]['type'] == 'food':\n                    FoodOnly.append(Menu[i]['name'])\n            return (FoodOnly)\n        \n            \n    except Exception as e:\n        print('Error Occured : ',e) \n    \ntry:\n    Menu = [\n        {'name':'Orange Juice','type':'drink','price':25.50},\n        {'name':'Lemonade','type':'drink','price':10},\n        {'name':'Cranberry Juice','type':'drink','price':40},\n        {'name':'Pineapple Juice','type':'drink','price':40},\n        {'name':'Lemon Iced Tea','type':'drink','price':80},\n        {'name':'Vanilla Chai Latte','type':'drink','price':90},\n        {'name':'Hot Chocolate','type':'drink','price':100},\n        {'name':'Iced Coffee','type':'drink','price':70.12},\n        {'name':'Tuna Sandwich','type':'food','price':120},\n        {'name':'Ham And Cheese Sandwich','type':'food','price':180},\n        {'name':'Bacon And Egg','type':'food','price': 120},\n        {'name':'Steak','type':'food','price':360},\n        {'name':'Hamburger','type':'food','price':90},\n        {'name':'Cinnamon Roll','type':'food','price':60.25}\n    ]\n    tcs = CoffeeShop('Anup\\'s Coffee Shop',Menu,[])\n    \n    print(f'tcs.add_order(\"hot cocoa\") ➞ \"{tcs.add_order(\"hot cocoa\")}\"')\n    print(f'tcs.add_order(\"iced tea\") ➞ \"{tcs.add_order(\"iced tea\")}\"')\n    print(f'tcs.add_order(\"cinnamon roll\") ➞ \"{tcs.add_order(\"cinnamon roll\")}\"')\n    print(f'tcs.add_order(\"iced coffee\") ➞ \"{tcs.add_order(\"iced coffee\")}\"')\n    \n    print(f'tcs.list_orders() ➞ \"{tcs.list_orders()}\"')\n    print(f'tcs.due_amount() ➞ {float(tcs.due_amount())}')\n    print(f'tcs.fulfill_order() ➞ {tcs.fulfill_order()}')\n    print(f'tcs.fulfill_order() ➞ {tcs.fulfill_order()}')\n    print(f'tcs.fulfill_order() ➞ {tcs.fulfill_order()}')\n    \n    print(f'tcs.list_orders() ➞ {tcs.list_orders()}')\n    print(f'tcs.due_amount() ➞ {float(tcs.due_amount())}')\n    print(f'tcs.cheapest_item() ➞ {tcs.cheapest_item()}')\n    print(f'tcs.drinks_only() ➞ {tcs.drinks_only()}')\n    print(f'tcs.food_only() ➞ {tcs.food_only()}')\n    \n    \n    \n    \n    \n    \nexcept Exception as e:\n    print('Error Occured : ',e)",
      "metadata": {
        "trusted": true
      },
      "execution_count": 3,
      "outputs": [
        {
          "name": "stdout",
          "text": "tcs.add_order(\"hot cocoa\") ➞ \"This item is currently unavailable!\"\ntcs.add_order(\"iced tea\") ➞ \"This item is currently unavailable!\"\ntcs.add_order(\"cinnamon roll\") ➞ \"Order added!\"\ntcs.add_order(\"iced coffee\") ➞ \"Order added!\"\ntcs.list_orders() ➞ \"['Cinnamon Roll', 'Iced Coffee']\"\ntcs.due_amount() ➞ 130.37\ntcs.fulfill_order() ➞ The Cinnamon Roll is ready!\ntcs.fulfill_order() ➞ The Iced Coffee is ready!\ntcs.fulfill_order() ➞ All orders have been fulfilled!\ntcs.list_orders() ➞ []\ntcs.due_amount() ➞ 0.0\ntcs.cheapest_item() ➞ Lemonade\ntcs.drinks_only() ➞ ['Orange Juice', 'Lemonade', 'Cranberry Juice', 'Pineapple Juice', 'Lemon Iced Tea', 'Vanilla Chai Latte', 'Hot Chocolate', 'Iced Coffee']\ntcs.food_only() ➞ ['Tuna Sandwich', 'Ham And Cheese Sandwich', 'Bacon And Egg', 'Steak', 'Hamburger', 'Cinnamon Roll']\n",
          "output_type": "stream"
        }
      ]
    },
    {
      "cell_type": "code",
      "source": "",
      "metadata": {},
      "execution_count": null,
      "outputs": []
    },
    {
      "cell_type": "markdown",
      "source": "Q.4 : In this challenge, write a funcion loneliest_number to find the last Lonely number inside a sequence. A number is Lonely if the distance from its closest Prime sets a new record of the sequence.\nSequence = from 0 to 3\n# Any number lower than 3 doesn't have a Prime preceeding it...\n# ...so that you'll consider only its next closest Prime.\n\n0 has distance 2 from its closest Prime (2)\n# It's a new record! 0 It's the first lonely number of the sequence\n\n1 has distance 1 from its closest Prime (2)\n2 has distance 1 from 3\n3 has distance 1 from 2\n# The sequence 0 to 3  has only one Lonely number: 0",
      "metadata": {}
    },
    {
      "cell_type": "code",
      "source": "#Solution 4\n\ndef previousprime(n):\n    if n < 3:\n        return n\n    elif n == 3:\n        return 2\n    else:\n        prime=0\n        n = n-1\n        for i in range(2,int((n**0.5)+2)):\n            if n%i==0:\n                prime=0\n                break\n            else:\n                prime=1\n        if prime==1:\n            return n\n        else:\n            return previousprime(n)\n        \ndef nextprime(n):\n    if n < 2 :\n        return 2\n    else:\n        prime=0\n        n+=1\n        for i in range(2,int(n**0.5)+2):       \n            if n%i==0:\n                prime=0\n                break\n            else:\n                prime=1\n        if prime==1:\n            return n\n        else:\n            return nextprime(n)\n\ndef loneliest_number(lo,hi):\n    try:\n        TempLoneList = []\n        check = 0\n        Dict_Result = {'number':0,'distance':0,'closest':0}\n        for i in range(lo,hi+1):\n            check = 1 if not TempLoneList else TempLoneList[0][1]\n            if i<3 and nextprime(i)-i>1:\n                TempLoneList.clear()\n                TempLoneList.append([i,nextprime(i)-i,nextprime(i)])\n            else:\n                if i-previousprime(i)<nextprime(i)-i and i-previousprime(i)>check:\n                    TempLoneList.clear()\n                    TempLoneList.append([i,(i-previousprime(i)),previousprime(i)])\n                elif nextprime(i)-i<i-previousprime(i) and nextprime(i)-i>check:\n                    TempLoneList.clear()\n                    TempLoneList.append([i,(nextprime(i)-i),nextprime(i)])\n                        \n                elif nextprime(i)-i==i-previousprime(i) and nextprime(i)-i>check:\n                    TempLoneList.clear()\n                    TempLoneList.append([i,(nextprime(i)-i),nextprime(i)])\n            \n                \n                \n        for i in range(len(TempLoneList)):\n            Dict_Result['number'] = TempLoneList[i][0]\n            Dict_Result['distance'] = TempLoneList[i][1]\n            Dict_Result['closest'] = TempLoneList[i][2]\n            \n        print(f'loneliest_number{lo,hi} ➞ {Dict_Result}')\n                \n    except Exception as e:\n        print('Error Occured : ',e)\n        \nloneliest_number(0,22)\nloneliest_number(8, 123)\nloneliest_number(938, 1190)\nloneliest_number(120, 1190)",
      "metadata": {
        "trusted": true
      },
      "execution_count": 4,
      "outputs": [
        {
          "name": "stdout",
          "text": "loneliest_number(0, 22) ➞ {'number': 0, 'distance': 2, 'closest': 2}\nloneliest_number(8, 123) ➞ {'number': 120, 'distance': 7, 'closest': 127}\nloneliest_number(938, 1190) ➞ {'number': 1140, 'distance': 11, 'closest': 1151}\nloneliest_number(120, 1190) ➞ {'number': 211, 'distance': 12, 'closest': 223}\n",
          "output_type": "stream"
        }
      ]
    },
    {
      "cell_type": "code",
      "source": "#Solution 5\n\nclass Selfie:\n    def __init__(self, x=None):\n        self.x = x\n        self.archived_states = []\n        \n    def save_state(self):\n        self.archived_states.append(self.x)\n        self.x = None\n        return self.archived_states\n    \n    def recover_state(self,IndexToRecover):\n        if IndexToRecover >=0 and IndexToRecover <= len(self.archived_states):\n            self.x = self.archived_states[IndexToRecover]\n        return self\n    \n\n \ntry:\n    \n    p = Selfie()\n    p.x = 2\n    p.save_state()\n    p.x = 5\n    p = p.recover_state(0)\n    print(f'p.x ➞ {p.x}')\n\n    \n    \nexcept Exception as e:\n    print('Error Occured : ',e)",
      "metadata": {
        "trusted": true
      },
      "execution_count": 5,
      "outputs": [
        {
          "name": "stdout",
          "text": "p.x ➞ 2\n",
          "output_type": "stream"
        }
      ]
    },
    {
      "cell_type": "code",
      "source": "",
      "metadata": {},
      "execution_count": null,
      "outputs": []
    }
  ]
}