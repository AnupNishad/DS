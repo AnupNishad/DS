{
  "metadata": {
    "language_info": {
      "codemirror_mode": {
        "name": "python",
        "version": 3
      },
      "file_extension": ".py",
      "mimetype": "text/x-python",
      "name": "python",
      "nbconvert_exporter": "python",
      "pygments_lexer": "ipython3",
      "version": "3.8"
    },
    "kernelspec": {
      "name": "python",
      "display_name": "Pyolite",
      "language": "python"
    }
  },
  "nbformat_minor": 4,
  "nbformat": 4,
  "cells": [
    {
      "cell_type": "code",
      "source": "#Solution 1\n\ndef secret (String):\n    '''\n        This function will take a string input.\n        This function will return based on the input and output. Look at the examples,there is a pattern.\n        secret(\"p.one.two.three\") ➞ \"<p class='one two three'></p>\"\n    '''\n    try:\n        \n        Result = f'<{String[0]} class=\"{\" \".join(String.split(\".\")[1:])}\"></{String[0]}>'\n            \n        print(f'secret(\"{String}\")➞ {Result}')\n    except Exception as e:\n        print('Error Occured : ',e)\n        \nsecret(\"p.one.two.three\")\nsecret(\"p.one\") \nsecret(\"p.four.five\")",
      "metadata": {
        "trusted": true
      },
      "execution_count": 1,
      "outputs": [
        {
          "name": "stdout",
          "text": "secret(\"p.one.two.three\")➞ <p class=\"one two three\"></p>\nsecret(\"p.one\")➞ <p class=\"one\"></p>\nsecret(\"p.four.five\")➞ <p class=\"four five\"></p>\n",
          "output_type": "stream"
        }
      ]
    },
    {
      "cell_type": "code",
      "source": "#Solution 2\n\nimport re\ndef count_lone_ones(Num):\n    '''\n        This function will take a integer input.\n        This function will counts how many lone 1s appear in a given number. \n        Lone means the number doesn&#39;t appear twice or more in a row.\n    '''\n    try:\n        Pattern = r\"(?<!1)1(?!1)\" \n        Result = re.findall(Pattern,str(Num))     \n            \n        print(f'count_lone_ones({Num})➞ {len(Result)}')\n        \n    except Exception as e:\n        print('Error Occured : ',e)\n        \ncount_lone_ones(101)\ncount_lone_ones(1191)\ncount_lone_ones(1111)\ncount_lone_ones(462)",
      "metadata": {
        "trusted": true
      },
      "execution_count": 2,
      "outputs": [
        {
          "name": "stdout",
          "text": "count_lone_ones(101)➞ 2\ncount_lone_ones(1191)➞ 1\ncount_lone_ones(1111)➞ 0\ncount_lone_ones(462)➞ 0\n",
          "output_type": "stream"
        }
      ]
    },
    {
      "cell_type": "code",
      "source": "#Solution 3\n\ndef printGrid(Row,Column):\n    '''\n        This function will take 2 integer input.\n        This method will accepts two integer parameters rows and cols. \n        The output is a 2d array of numbers displayed in column-major order, meaning the numbers shown increase \n        sequentially down each column and wrap to the top of the next column to the right once the bottom of the current column is reached.\n    '''\n    try:\n        Result = []\n        for i in range(1,Row+1):\n            ColCount = i\n            TempList = []\n            for j in range(1,Column+1):\n                ColCount = ColCount if j == 1 else ColCount+Row\n                TempList.append(ColCount)\n            Result.append(TempList)\n            \n        print(f'printGrid{Row,Column} ➞ {Result}')\n        \n    except Exception as e:\n        print('Error Occured : ',e)\n        \nprintGrid(3, 6)\nprintGrid(5, 3)\nprintGrid(4, 1)",
      "metadata": {
        "trusted": true
      },
      "execution_count": 3,
      "outputs": [
        {
          "name": "stdout",
          "text": "printGrid(3, 6) ➞ [[1, 4, 7, 10, 13, 16], [2, 5, 8, 11, 14, 17], [3, 6, 9, 12, 15, 18]]\nprintGrid(5, 3) ➞ [[1, 6, 11], [2, 7, 12], [3, 8, 13], [4, 9, 14], [5, 10, 15]]\nprintGrid(4, 1) ➞ [[1], [2], [3], [4]]\n",
          "output_type": "stream"
        }
      ]
    },
    {
      "cell_type": "code",
      "source": "#Solution 4\n\ndef min_miss_pos(NumList):\n    '''\n        This function will take a integer list input.\n        It returns the smallest positive integer not present in the list.\n    '''\n    try:\n        NumListCopy = NumList.copy()\n        NumList.sort()\n        SmallestInt = 0\n        for i in range(1,max(NumList)+1):\n            if i not in NumList:\n                SmallestInt = i\n                break\n            \n        print(f'min_miss_pos{NumListCopy} ➞ {SmallestInt}')\n        \n    except Exception as e:\n        print('Error Occured : ',e)\n        \nmin_miss_pos([-2, 6, 4, 5, 7, -1, 1, 3, 6, -2, 9, 10, 2, 2])\nmin_miss_pos([5, 9, -2, 0, 1, 3, 9, 3, 8, 9])\nmin_miss_pos([0, 4, 4, -1, 9, 4, 5, 2, 10, 7, 6, 3, 10, 9])",
      "metadata": {
        "trusted": true
      },
      "execution_count": 4,
      "outputs": [
        {
          "name": "stdout",
          "text": "min_miss_pos[-2, 6, 4, 5, 7, -1, 1, 3, 6, -2, 9, 10, 2, 2] ➞ 8\nmin_miss_pos[5, 9, -2, 0, 1, 3, 9, 3, 8, 9] ➞ 2\nmin_miss_pos[0, 4, 4, -1, 9, 4, 5, 2, 10, 7, 6, 3, 10, 9] ➞ 1\n",
          "output_type": "stream"
        }
      ]
    },
    {
      "cell_type": "code",
      "source": "#Solution 5\n\ndef pizza_points(CustDict,MinNoOrder,MinOrderPrice):\n    '''\n        This function takes a dictionary of customers, a minimum number of orders and a minimum order price. \n        It returns a list of customers that are eligible for a free pizza.\n    '''\n    try:\n        Result = []\n        for i in CustDict.keys():\n            Temp = []\n            for j in CustDict[i]:\n                if j > MinOrderPrice:\n                    Temp.append(j)\n            if len(Temp)>MinNoOrder:\n                Result.append(i)\n                \n                \n        print(f'pizza_points{CustDict,MinNoOrder,MinOrderPrice} ➞ {Result}')\n        \n    except Exception as e:\n        print('Error Occured : ',e)\n        \ncustomers = {\n  \"Batman\": [22, 30, 11, 17, 15, 52, 27, 12],\n  \"Spider-Man\": [5, 17, 30, 33, 40, 22, 26, 10, 11, 45]\n}\n\npizza_points(customers, 5, 20)\npizza_points(customers, 3, 10)\npizza_points(customers, 5, 100)",
      "metadata": {
        "trusted": true
      },
      "execution_count": 10,
      "outputs": [
        {
          "name": "stdout",
          "text": "pizza_points({'Batman': [22, 30, 11, 17, 15, 52, 27, 12], 'Spider-Man': [5, 17, 30, 33, 40, 22, 26, 10, 11, 45]}, 5, 20) ➞ ['Spider-Man']\npizza_points({'Batman': [22, 30, 11, 17, 15, 52, 27, 12], 'Spider-Man': [5, 17, 30, 33, 40, 22, 26, 10, 11, 45]}, 3, 10) ➞ ['Batman', 'Spider-Man']\npizza_points({'Batman': [22, 30, 11, 17, 15, 52, 27, 12], 'Spider-Man': [5, 17, 30, 33, 40, 22, 26, 10, 11, 45]}, 5, 100) ➞ []\n",
          "output_type": "stream"
        }
      ]
    },
    {
      "cell_type": "code",
      "source": "",
      "metadata": {},
      "execution_count": null,
      "outputs": []
    }
  ]
}