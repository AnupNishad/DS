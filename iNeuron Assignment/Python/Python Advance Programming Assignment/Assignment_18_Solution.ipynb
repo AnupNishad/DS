{
  "metadata": {
    "language_info": {
      "codemirror_mode": {
        "name": "python",
        "version": 3
      },
      "file_extension": ".py",
      "mimetype": "text/x-python",
      "name": "python",
      "nbconvert_exporter": "python",
      "pygments_lexer": "ipython3",
      "version": "3.8"
    },
    "kernelspec": {
      "name": "python",
      "display_name": "Pyolite",
      "language": "python"
    }
  },
  "nbformat_minor": 4,
  "nbformat": 4,
  "cells": [
    {
      "cell_type": "code",
      "source": "#Solution 1\n\ndef track_robot(List):\n    '''\n        This function will take a list input.\n        A robot has been given a list of movement instructions. Each instruction is\n        either left, right, up or down, followed by a distance to move. The robot starts at [0, 0]. \n        You want to calculate where the robot will end up and return its final position as a list.\n    '''\n    try:\n        StartPosition = [0,0]\n        for i in List:\n            i = i.split(\" \")\n            if i[0] in ['right','left']:\n                StartPosition[0] = StartPosition[0]-int(i[1]) if i[0] == 'left' else StartPosition[0]+int(i[1])\n            else:\n                StartPosition[1] = StartPosition[1]-int(i[1]) if i[0] == 'down' else StartPosition[1]+int(i[1])\n                \n        print(f'track_robot({List}) ➞ {StartPosition}')\n    except Exception as e:\n        print('Error Occured : ',e)\n        \ntrack_robot([\"right 10\", \"up 50\", \"left 30\", \"down 10\"])\ntrack_robot([])\ntrack_robot([\"right 100\", \"right 100\", \"up 500\", \"up 10000\"])",
      "metadata": {
        "trusted": true
      },
      "execution_count": 1,
      "outputs": [
        {
          "name": "stdout",
          "text": "track_robot(['right 10', 'up 50', 'left 30', 'down 10']) ➞ [-20, 40]\ntrack_robot([]) ➞ [0, 0]\ntrack_robot(['right 100', 'right 100', 'up 500', 'up 10000']) ➞ [200, 10500]\n",
          "output_type": "stream"
        }
      ]
    },
    {
      "cell_type": "code",
      "source": "#Solution 2\n\ndef find_longest(String):\n    '''\n        This function will take a string input.\n        Write a function that will return the longest word in a sentence. \n        In cases where more than one word is found, return the first one.\n    '''\n    try:\n        Dict = {}\n        for i in String.split():\n            Dict[i] = len(i) \n        MaxLenWord = max(zip(Dict.values(), Dict.keys()))[1]\n        MaxLenWord = MaxLenWord.replace(\".\",\"\") if MaxLenWord.endswith('.') else MaxLenWord\n        \n        print(f'find_longest({String}) ➞ {MaxLenWord}')\n    except Exception as e:\n        print('Error Occured : ',e)\n        \nfind_longest(\"A thing of beauty is a joy forever.\")\nfind_longest(\"Forgetfulness is by all means powerless!\")\nfind_longest(\"\\\"Strengths\\\" is the longest and most commonly used word that contains only a single vowel.\")",
      "metadata": {
        "trusted": true
      },
      "execution_count": 2,
      "outputs": [
        {
          "name": "stdout",
          "text": "find_longest(A thing of beauty is a joy forever.) ➞ forever\nfind_longest(Forgetfulness is by all means powerless!) ➞ Forgetfulness\nfind_longest(\"Strengths\" is the longest and most commonly used word that contains only a single vowel.) ➞ \"Strengths\"\n",
          "output_type": "stream"
        }
      ]
    },
    {
      "cell_type": "code",
      "source": "#Solution 3\n\ndef interview(InterviewList,MaxInterviewTime):\n    '''\n        This function will take 2 input (List,Integer).\n        The criteria for a candidate to be qualified in the coding interview is:\n\n        The candidate should have complete all the questions.\n        The maximum time given to complete the interview is 120 minutes.\n        The maximum time given for very easy questions is 5 minutes each.\n        The maximum time given for easy questions is 10 minutes each.\n        The maximum time given for medium questions is 15 minutes each.\n        The maximum time given for hard questions is 20 minutes each.\n        If all the above conditions are satisfied, return \"qualified\", else return \"disqualified\".\n\n        You will be given a list of time taken by a candidate to solve a particular question and the total time taken by the candidate to complete the interview.\n\n        Given a list , in a true condition will always be in the format [very easy, very easy, easy, easy, medium, medium, hard, hard].\n\n        The maximum time to complete the interview includes a buffer time of 20 minutes.\n    '''\n    try:\n        InterviewResult = \"qualified\"\n        if len(InterviewList) != 8 or MaxInterviewTime > 120 or max(InterviewList[0:2]) > 5 or max(InterviewList[2:4]) > 10 or max(InterviewList[4:6]) > 15 or max(InterviewList[6:8]) > 20:\n            InterviewResult = \"disqualified\"\n        \n        print(f'interview{InterviewList,MaxInterviewTime} ➞ {InterviewResult}')\n    except Exception as e:\n        print('Error Occured : ',e)\n        \ninterview([5, 5, 10, 10, 15, 15, 20, 20], 120)\ninterview([2, 3, 8, 6, 5, 12, 10, 18], 64)\ninterview([5, 5, 10, 10, 25, 15, 20, 20], 120)\ninterview([5, 5, 10, 10, 15, 15, 20], 120)\ninterview([5, 5, 10, 10, 15, 15, 20, 20], 130)",
      "metadata": {
        "trusted": true
      },
      "execution_count": 3,
      "outputs": [
        {
          "name": "stdout",
          "text": "interview([5, 5, 10, 10, 15, 15, 20, 20], 120) ➞ qualified\ninterview([2, 3, 8, 6, 5, 12, 10, 18], 64) ➞ qualified\ninterview([5, 5, 10, 10, 25, 15, 20, 20], 120) ➞ disqualified\ninterview([5, 5, 10, 10, 15, 15, 20], 120) ➞ disqualified\ninterview([5, 5, 10, 10, 15, 15, 20, 20], 130) ➞ disqualified\n",
          "output_type": "stream"
        }
      ]
    },
    {
      "cell_type": "code",
      "source": "#Solution 4\n\ndef chunkify(ChunkList,ChunkSize):\n    '''\n        This function will take 2 input (List,String).\n        This function will divides a list into chunks of size n, where n is the length of each chunk.\n    '''\n    try:\n        Result = []\n            \n        for i in range(0,len(ChunkList),ChunkSize):\n            Result.append(ChunkList[i:i+ChunkSize])\n            \n        print(f'chunkify{ChunkList,ChunkSize}) ➞ {Result}')\n    except Exception as e:\n        print('Error Occured : ',e)\n        \nchunkify([2, 3, 4, 5], 2)\nchunkify([2, 3, 4, 5, 6], 2)\nchunkify([2, 3, 4, 5, 6, 7], 3)\nchunkify([2, 3, 4, 5, 6, 7], 1)\nchunkify([2, 3, 4, 5, 6, 7], 7)",
      "metadata": {
        "trusted": true
      },
      "execution_count": 4,
      "outputs": [
        {
          "name": "stdout",
          "text": "chunkify([2, 3, 4, 5], 2)) ➞ [[2, 3], [4, 5]]\nchunkify([2, 3, 4, 5, 6], 2)) ➞ [[2, 3], [4, 5], [6]]\nchunkify([2, 3, 4, 5, 6, 7], 3)) ➞ [[2, 3, 4], [5, 6, 7]]\nchunkify([2, 3, 4, 5, 6, 7], 1)) ➞ [[2], [3], [4], [5], [6], [7]]\nchunkify([2, 3, 4, 5, 6, 7], 7)) ➞ [[2, 3, 4, 5, 6, 7]]\n",
          "output_type": "stream"
        }
      ]
    },
    {
      "cell_type": "code",
      "source": "#Solution 5\n\ndef get_prices(List):\n    '''\n        This function will take a input (List).\n        You are given a list of strings consisting of grocery items, with prices in parentheses. \n        Return a list of prices in float format\n    '''\n    try:\n        Price = []\n        for i in range(len(List)):\n            Price.append(float(List[i][List[i].index('(')+2:List[i].index(')')]))\n\n        print(f'get_prices{List}) ➞ {Price}')\n    except Exception as e:\n        print('Error Occured : ',e)\n        \nget_prices([\"salad ($4.99)\"])\nget_prices([\n  \"artichokes ($1.99)\",\n  \"rotiserrie chicken ($5.99)\",\n  \"gum ($0.75)\"\n])\n\nget_prices([\n  \"ice cream ($5.99)\",\n  \"banana ($0.20)\",\n  \"sandwich ($8.50)\",\n  \"soup ($1.99)\"\n])",
      "metadata": {
        "trusted": true
      },
      "execution_count": 5,
      "outputs": [
        {
          "name": "stdout",
          "text": "get_prices['salad ($4.99)']) ➞ [4.99]\nget_prices['artichokes ($1.99)', 'rotiserrie chicken ($5.99)', 'gum ($0.75)']) ➞ [1.99, 5.99, 0.75]\nget_prices['ice cream ($5.99)', 'banana ($0.20)', 'sandwich ($8.50)', 'soup ($1.99)']) ➞ [5.99, 0.2, 8.5, 1.99]\n",
          "output_type": "stream"
        }
      ]
    },
    {
      "cell_type": "code",
      "source": "",
      "metadata": {},
      "execution_count": null,
      "outputs": []
    }
  ]
}