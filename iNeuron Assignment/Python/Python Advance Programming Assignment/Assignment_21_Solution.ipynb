{
  "metadata": {
    "language_info": {
      "codemirror_mode": {
        "name": "python",
        "version": 3
      },
      "file_extension": ".py",
      "mimetype": "text/x-python",
      "name": "python",
      "nbconvert_exporter": "python",
      "pygments_lexer": "ipython3",
      "version": "3.8"
    },
    "kernelspec": {
      "name": "python",
      "display_name": "Pyolite",
      "language": "python"
    }
  },
  "nbformat_minor": 4,
  "nbformat": 4,
  "cells": [
    {
      "cell_type": "code",
      "source": "#Solution 1\n\ndef count_same_ends(Sentence):\n    '''\n        This function takes a string input.\n        It returns the number of words which have the same first and last letter.\n    '''\n    try:\n        Count = 0\n        for i in Sentence.split():\n            if (\"!\" in i or \".\" in i):\n                i = i.replace(\"!\",\"\").replace(\".\",\"\")\n            if ((i[0].lower() == i[len(i)-1].lower()) and len(i)>1):\n                Count = Count+1\n        \n        print(f'count_same_ends({Sentence}) ➞ {Count}')\n        \n    except Exception as e:\n        print('Error Occured : ',e)\n        \ncount_same_ends(\"Pop! goes the balloon\")\ncount_same_ends(\"And the crowd goes wild!\")\ncount_same_ends(\"No I am not in a gang.\")",
      "metadata": {
        "trusted": true
      },
      "execution_count": 32,
      "outputs": [
        {
          "name": "stdout",
          "text": "count_same_ends(Pop! goes the balloon) ➞ 1\ncount_same_ends(And the crowd goes wild!) ➞ 0\ncount_same_ends(No I am not in a gang.) ➞ 1\n",
          "output_type": "stream"
        }
      ]
    },
    {
      "cell_type": "code",
      "source": "#Solution 2\n\ndef atbash(String):\n    '''\n        This function takes a string input.\n        The Atbash cipher is an encryption method in which each letter of a word is replaced with its \"mirror\" letter in the alphabet: \n        A <=> Z; B <=> Y; C <=> X; etc.\n    '''\n    try:\n        Alphabet_a_z = \"abcdefghijklmnopqrstuvwxyz\"\n        Alphabet_a_z_Reverse = Alphabet_a_z[::-1]\n        atbashcode = \"\"\n        for i in String:\n            for j in range(len(Alphabet_a_z)):\n                if Alphabet_a_z[j] == i:\n                    atbashcode = atbashcode+Alphabet_a_z_Reverse[j]\n                elif Alphabet_a_z[j].upper() == i:\n                    atbashcode = atbashcode+Alphabet_a_z_Reverse[j].upper()\n            else:\n                if i == \"!\" or i == \" \" or i.isdigit():\n                    atbashcode = atbashcode+i\n        \n        print(f'atbash({String}) ➞ {atbashcode}')\n        \n    except Exception as e:\n        print('Error Occured : ',e)\n        \natbash(\"apple\")\natbash(\"Hello world!\")\natbash(\"Christmas is the 25th of December\")",
      "metadata": {
        "trusted": true
      },
      "execution_count": 33,
      "outputs": [
        {
          "name": "stdout",
          "text": "atbash(apple) ➞ zkkov\natbash(Hello world!) ➞ Svool dliow!\natbash(Christmas is the 25th of December) ➞ Xsirhgnzh rh gsv 25gs lu Wvxvnyvi\n",
          "output_type": "stream"
        }
      ]
    },
    {
      "cell_type": "markdown",
      "source": "Q.3 : Create a class Employee that will take a full name as argument, as well as a set of none, one or more keywords. \nEach instance should have a name and a lastname attributes plus one more attribute for each of the keywords, if any.",
      "metadata": {}
    },
    {
      "cell_type": "code",
      "source": "#Solution 3\n\nclass Employee:\n    try:\n        def __init__(self,FullName = None,salary = None,height = None,nationality = None):\n            self.FullName = FullName\n            self.name = FullName.split()[0]\n            self.lastname = FullName.split()[1]\n            self.salary = salary\n            self.height = height\n            self.nationality = nationality\n    except Exception as e:\n        print('Error Occured : ',e)\ntry:\n    john = Employee(\"John Doe\")\n    mary = Employee(\"Mary Major\", salary=120000)\n    richard = Employee(\"Richard Roe\", salary=110000, height=178)\n    giancarlo = Employee(\"Giancarlo Rossi\", salary=115000, height=182, nationality=\"Italian\")\n\n    print(f'john.name ➞ \"{john.name}\" ')\n    print(f'mary.lastname ➞ \"{mary.lastname}\" ')\n    print(f'richard.height ➞ {richard.height}')\n    print(f'giancarlo.nationality ➞ \"{giancarlo.nationality}\" ')\n    \nexcept Exception as e:\n    print('Error Occured : ',e)   \n",
      "metadata": {
        "trusted": true
      },
      "execution_count": 63,
      "outputs": [
        {
          "name": "stdout",
          "text": "john.name ➞ \"John\" \nmary.lastname ➞ \"Major\" \nrichard.height ➞ 178\ngiancarlo.nationality ➞ \"Italian\" \n",
          "output_type": "stream"
        }
      ]
    },
    {
      "cell_type": "code",
      "source": "#Solution 4\n\ndef can_see_stage(List):\n    '''\n        This function takes a List of List input.\n        The function should return True if every number can see the front-stage, and False if even a single number cannot.\n    '''\n    try:\n        Result = True\n        OutPut = []\n        Max = 0\n        for i in range(len(List)):\n            Temp = []\n            for j in range(len(List)):\n                Max = -1 if not Temp else max(Temp)\n                if Max < List[j][i]:\n                    Temp.append(List[j][i])\n                else:\n                    Result = False\n                    break\n            OutPut.append(Temp)\n        \n        print(f'can_see_stage({List}) ➞ {Result}')\n        \n    except Exception as e:\n        print('Error Occured : ',e)\n        \ncan_see_stage([\n[1, 2, 3],\n[4, 5, 6],\n[7, 8, 9]\n])\n\ncan_see_stage([\n[0, 0, 0],\n[1, 1, 1],\n[2, 2, 2]\n])\n\ncan_see_stage([\n[2, 0, 0],\n[1, 1, 1],\n[2, 2, 2]\n])\n\ncan_see_stage([\n[1, 0, 0],\n[1, 1, 1],\n[2, 2, 2]\n])\n",
      "metadata": {
        "trusted": true
      },
      "execution_count": 64,
      "outputs": [
        {
          "name": "stdout",
          "text": "can_see_stage([[1, 2, 3], [4, 5, 6], [7, 8, 9]]) ➞ True\ncan_see_stage([[0, 0, 0], [1, 1, 1], [2, 2, 2]]) ➞ True\ncan_see_stage([[2, 0, 0], [1, 1, 1], [2, 2, 2]]) ➞ False\ncan_see_stage([[1, 0, 0], [1, 1, 1], [2, 2, 2]]) ➞ False\n",
          "output_type": "stream"
        }
      ]
    },
    {
      "cell_type": "markdown",
      "source": "Q.5 : Create a Pizza class with the attributes order_number and ingredients (which is given as a list). Only the ingredients will be given as input.\nYou should also make it so that its possible to choose a ready made pizza flavour rather than typing out the ingredients manually! As well as creating this Pizza class, hard-code the following pizza flavours.\n\nName            Ingredients\nhawaiian        ham, pineapple\nmeat_festival   beef, meatball, bacon\ngarden_feast    spinach, olives, mushroom",
      "metadata": {}
    },
    {
      "cell_type": "code",
      "source": "#Solution 5\n\nclass Pizza:\n    try:\n        order_count = 0\n        def __init__(self,ingredients = None):\n            self.ingredients = ingredients\n            self.order_number = Pizza.order_count+1\n            Pizza.order_count = self.order_number\n            \n        def garden_feast(self):\n            self.ingredients = [\"spinach\", \"olives\", \"mushroom\"]\n            \n    except Exception as e:\n        print('Error Occured : ',e)\ntry:\n    p1 = Pizza([\"bacon\", \"parmesan\", \"ham\"])\n    p2 = Pizza()\n    p2.garden_feast()\n    \n    print(f'p1.ingredients ➞ {p1.ingredients}')\n    print(f'p2.ingredients ➞ {p2.ingredients}')\n    print(f'p1.order_number ➞ {p1.order_number}')\n    print(f'p2.order_number ➞ {p2.order_number}')\n    \nexcept Exception as e:\n    print('Error Occured : ',e)   \n",
      "metadata": {
        "trusted": true
      },
      "execution_count": 92,
      "outputs": [
        {
          "name": "stdout",
          "text": "p1.ingredients ➞ ['bacon', 'parmesan', 'ham']\np2.ingredients ➞ ['spinach', 'olives', 'mushroom']\np1.order_number ➞ 1\np2.order_number ➞ 2\n",
          "output_type": "stream"
        }
      ]
    },
    {
      "cell_type": "code",
      "source": "",
      "metadata": {},
      "execution_count": null,
      "outputs": []
    },
    {
      "cell_type": "code",
      "source": "",
      "metadata": {},
      "execution_count": null,
      "outputs": []
    }
  ]
}