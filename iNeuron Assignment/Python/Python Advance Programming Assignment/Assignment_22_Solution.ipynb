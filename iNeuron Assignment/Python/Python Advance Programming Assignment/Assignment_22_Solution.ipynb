{
  "metadata": {
    "language_info": {
      "codemirror_mode": {
        "name": "python",
        "version": 3
      },
      "file_extension": ".py",
      "mimetype": "text/x-python",
      "name": "python",
      "nbconvert_exporter": "python",
      "pygments_lexer": "ipython3",
      "version": "3.8"
    },
    "kernelspec": {
      "name": "python",
      "display_name": "Pyolite",
      "language": "python"
    }
  },
  "nbformat_minor": 4,
  "nbformat": 4,
  "cells": [
    {
      "cell_type": "markdown",
      "source": "Q.1 : Create a class Smoothie and do the following:\nCreate an instance attribute called ingredients.\nCreate a get_cost method which calculates the total cost of the ingredients used to make the smoothie.\nCreate a get_price method which returns the number from get_cost plus the number from get_cost multiplied by 1.5. Round to two decimal places.\nCreate a get_name method which gets the ingredients and puts them in alphabetical order into a nice descriptive sentence. If there are multiple ingredients, add the word \"Fusion\" to the end but otherwise, add \"Smoothie\". Remember to change \"-berries\" to \"-berry\". See the examples below.\nIngredient    Price\nStrawberries      $1.50\nBanana            $0.50\nMango             $2.50\nBlueberries       $1.00\nRaspberries       $1.00\nApple             $1.75\nPineapple         $3.50",
      "metadata": {}
    },
    {
      "cell_type": "code",
      "source": "# Solution 1\n\nimport re\nclass Smoothie:\n    try:\n        \n        ingredients_price = {\n        'Strawberries':1.50,\n        'Banana':0.50,\n        'Mango':2.50,\n        'Blueberries':1.00,\n        'Raspberries':1.00,\n        'Apple':1.75,\n        'Pineapple':3.50\n        }\n        \n        def __init__(self,ingredients):\n            self.ingredients = ingredients\n            \n        def get_cost(self):\n            self.TotalCost = 0\n            for i in self.ingredients:\n                if i in Smoothie.ingredients_price:\n                    self.TotalCost = self.TotalCost+round(Smoothie.ingredients_price.get(i,0),2)\n                    \n            return '$'+str(self.TotalCost)\n        \n        def get_price(self):\n            self.Total_Price = 0\n            self.Total_Price = round((self.TotalCost*1.5)+(self.TotalCost),2)\n            \n            return '$'+str(self.Total_Price)\n        \n        def get_name(self):\n            self.name = re.sub('berries','berry',' '.join(sorted(self.ingredients)))\n            self.name = self.name+' Smoothie' if len(self.ingredients) == 1 else self.name+' Fusion'\n            \n            return self.name\n            \n    except Exception as e:\n        print('Error Occured : ',e)\ntry:\n    s1 = Smoothie([\"Banana\"])\n    s2 = Smoothie([\"Raspberries\", \"Strawberries\", \"Blueberries\"])\n\n    print(f's1.ingredients ➞ {s1.ingredients}')\n    print(f's1.get_cost() ➞ \"{s1.get_cost()}\" ')\n    print(f's1.get_price() ➞ \"{s1.get_price()}\" ')\n    print(f's1.get_name() ➞ \"{s1.get_name()}\" ')\n    \n    print(f's2.ingredients ➞ {s2.ingredients}')\n    print(f's2.get_cost() ➞ \"{s2.get_cost()}\" ')\n    print(f's2.get_price() ➞ \"{s2.get_price()}\" ')\n    print(f's2.get_name() ➞ \"{s2.get_name()}\" ')\n    \n    \nexcept Exception as e:\n    print('Error Occured : ',e)   ",
      "metadata": {
        "trusted": true
      },
      "execution_count": 1,
      "outputs": [
        {
          "name": "stdout",
          "text": "s1.ingredients ➞ ['Banana']\ns1.get_cost() ➞ \"$0.5\" \ns1.get_price() ➞ \"$1.25\" \ns1.get_name() ➞ \"Banana Smoothie\" \ns2.ingredients ➞ ['Raspberries', 'Strawberries', 'Blueberries']\ns2.get_cost() ➞ \"$3.5\" \ns2.get_price() ➞ \"$8.75\" \ns2.get_name() ➞ \"Blueberry Raspberry Strawberry Fusion\" \n",
          "output_type": "stream"
        }
      ]
    },
    {
      "cell_type": "markdown",
      "source": "Q.2 : Your task is to write a program which allows teachers to create a multiple choice test in a class called Testpaper and to be also able to assign a minimum pass mark. The testpaper's subject should also be included. The attributes are in the following order:\nsubject\nmarkscheme\npass_mark\nAs well as that, we need to create student objects to take the test itself! Create another class called Student and do the following:\n\nCreate an attribute called tests_taken and set the default as 'No tests taken'.\nMake a method called take_test(), which takes in the testpaper object they are completing and the student's answers. Compare what they wrote to the mark scheme, and append to the/create a dictionary assigned to tests_taken in the way as shown in the point below.\nEach key in the dictionary should be the testpaper subject and each value should be a string in the format seen in the examples below (whether or not the student has failed, and their percentage in brackets).",
      "metadata": {}
    },
    {
      "cell_type": "code",
      "source": "# Solution 2\n\nclass Testpaper:\n    try:\n        \n        def __init__(self,subject,markscheme,pass_mark):\n            self.subject = subject\n            self.markscheme = markscheme\n            self.pass_mark = pass_mark\n            \n    except Exception as e:\n        print('Error Occured : ',e) \n    \nclass Student:\n    try:\n        \n        def __init__(self,tests_taken = 'No tests taken'):\n            self.tests_taken = tests_taken\n            \n        def take_test(self,paper,response):\n            correctresponse = 0\n            for i in range(len(paper.markscheme)):\n                if paper.markscheme[i] == response[i]:\n                    correctresponse = correctresponse+1\n            passmark = int(round(correctresponse/len(paper.markscheme)*100))\n            requirepassmark = int(paper.pass_mark.split(\"%\")[0])\n            if self.tests_taken == 'No tests taken':\n                self.tests_taken = {}\n            if passmark >= requirepassmark:\n                self.tests_taken[paper.subject] = f\"Passed! ({str(passmark)}%)\"\n            else:\n                self.tests_taken[paper.subject] = f'Failed! ({str(passmark)}%)'\n            \n    except Exception as e:\n        print('Error Occured : ',e)\ntry:\n    paper1 = Testpaper(\"Maths\", [\"1A\", \"2C\", \"3D\", \"4A\", \"5A\"], \"60%\")  \n    paper2 = Testpaper(\"Chemistry\", [\"1C\", \"2C\", \"3D\", \"4A\"], \"75%\")  \n    paper3 = Testpaper(\"Computing\", [\"1D\", \"2C\", \"3C\", \"4B\", \"5D\", \"6C\", \"7A\"], \"75%\")       \n\n    student1 = Student()   \n    student2 = Student()\n\n    print(f'student1.tests_taken ➞ \"{student1.tests_taken}\"')\n    student1.take_test(paper1, [\"1A\", \"2D\", \"3D\", \"4A\", \"5A\"])\n    print(f'student1.tests_taken ➞ {student1.tests_taken}')\n\n    student2.take_test(paper2, [\"1C\", \"2D\", \"3A\", \"4C\"])\n    student2.take_test(paper3, [\"1A\", \"2C\", \"3A\", \"4C\", \"5D\", \"6C\", \"7B\"])\n    print(f'student2.tests_taken ➞ {student2.tests_taken}')\n    \n    \nexcept Exception as e:\n    print('Error Occured : ',e)  ",
      "metadata": {
        "trusted": true
      },
      "execution_count": 2,
      "outputs": [
        {
          "name": "stdout",
          "text": "student1.tests_taken ➞ \"No tests taken\"\nstudent1.tests_taken ➞ {'Maths': 'Passed! (80%)'}\nstudent2.tests_taken ➞ {'Chemistry': 'Failed! (25%)', 'Computing': 'Failed! (43%)'}\n",
          "output_type": "stream"
        }
      ]
    },
    {
      "cell_type": "markdown",
      "source": "Q.3 : Due to unforseen circumstances in Suburbia, the trains will be delayed by a further 10 minutes.\nCreate a function that will help to plan out and manage these delays! Create a function called manage_delays that does the following:\n\nParameters will be the train object, a destination and number of minutes the delay is.\nIncrement to the train object's expected_time by the delay, if the destination given is in the train object's destinations",
      "metadata": {}
    },
    {
      "cell_type": "code",
      "source": "# Solution 3\n\nclass Train:\n    try:\n        def __init__(self,DestinationList,expected_time):\n            self.DestinationList = DestinationList\n            self.expected_time = expected_time\n            \n    except Exception as e:\n        print('Error Occured : ',e) \n    \ndef manage_delays(TrainObj,destination,delay):\n    try:\n        if destination in TrainObj.DestinationList:\n            OldExpTime = TrainObj.expected_time.split(\":\")\n            NewExptime = str((int(OldExpTime[0])*60+int(OldExpTime[1])+int(delay))//60)+':'+str((int(OldExpTime[0])*60+int(OldExpTime[1])+int(delay))%60)\n            TrainObj.expected_time = NewExptime\n        \n    except Exception as e:\n        print('Error Occured : ',e)\ntry:\n    trains = [\n              Train([\"Townsville\", \"Suburbia\", \"Urbantska\"], \"13:04\"),\n              Train([\"Farmsdale\", \"Suburbia\", \"Lakeside Valley\"], \"13:20\"),\n              Train([\"Suburbia\", \"Townsville\", \"Lakeside Valley\"], \"13:22\")\n            ]\n\n    for t in trains:\n        manage_delays(t, \"Lakeside Valley\", 60)\n        \n    print(f'trains[0].expected_time ➞ \"{trains[0].expected_time}\"')    \n    print(f'trains[1].expected_time ➞ \"{trains[1].expected_time}\"')    \n    print(f'trains[2].expected_time ➞ \"{trains[2].expected_time}\"') \n    \nexcept Exception as e:\n    print('Error Occured : ',e)  ",
      "metadata": {
        "trusted": true
      },
      "execution_count": 3,
      "outputs": [
        {
          "name": "stdout",
          "text": "trains[0].expected_time ➞ \"13:04\"\ntrains[1].expected_time ➞ \"14:20\"\ntrains[2].expected_time ➞ \"14:22\"\n",
          "output_type": "stream"
        }
      ]
    },
    {
      "cell_type": "markdown",
      "source": "Q.4 : Ted works as a computer programmer at Minecraft Inc. His boss has just given him an important assignment to update the code for the minecart tracks by the end of April. However, he has recently had to self-isolate due to Corvid-19 and has left the code for the tracks. BACK AT WORK!! He has the shorthand for the tracks he's supposed to look at, and where the carts are suppost to end up, but not the actual code.\nHe knows that:\n\n\"-->\" = \"Speed-Up Track\" ⁠— If a minecart interacts with this track, it's velocity increases by 2.67 BPS unless it's at its maximum speed of 8 BPS.\n\"<-->\" = \"Powered Track\" ⁠— If a minecart interacts with this track, it's velocity remains the same.\n\"<--\" = \"Slow-Down Track\" ⁠— If a minecart interacts with this track, it's velocity decreases by 2.67 BPS unless it's velocity equals 0, at which point it stops.\n\"---\" = \"Unpowered Track\" ⁠— If a minecart interacts with this track, it's velocity decreases by 1 BPS unless it's velocity equals 0, at which point it stops.\nHelp Ted by writing a class for the tracks that interact with the provided Minecart class as shown above. And then write a function that will take a list of the shorthand tracks and:\n\nIf the Minecart reaches the last peice of Track, return True.\nElse return the index of the Track where the Minecart stops.",
      "metadata": {}
    },
    {
      "cell_type": "code",
      "source": "# Solution 4\n\nclass Minecraft:\n    def __init__(self,tracks):\n        self.tracks = tracks\n        \ndef mine_run(tracks):\n    try:\n        mine_val = 0  \n        Result = 0\n        for i in range(len(tracks)):\n            if tracks[i] == '-->':\n                if mine_val+2.67 >= 8: mine_val = 8\n                else: mine_val = mine_val+2.67\n            elif tracks[i] == '<-->': continue\n            elif tracks[i] == '<--':\n                if mine_val-2.67 <= 0: Result = True if i == len(tracks)-1 else i; break\n                else: mine_val = mine_val-2.67\n            else:\n                if mine_val-1 <= 0: Result = True if i == len(tracks)-1 else i; break\n                else: mine_val = mine_val-1        \n        return Result\n    \n    except Exception as e:\n        print('Error Occured : ',e)\n    \ntry:\n    mine_track_1 = Minecraft([\"-->\", \"-->\", \"-->\", \"<--\", \"<--\", \"<--\"])\n    print(f'mine_run({mine_track_1.tracks}) ➞ {mine_run(mine_track_1.tracks)}')\n    mine_track_2 = Minecraft([\"-->\", \"<--\", \"-->\", \"-->\", \"<-->\", \"---\"])\n    print(f'mine_run({mine_track_2.tracks}) ➞ {mine_run(mine_track_2.tracks)}')\n    \nexcept Exception as e:\n    print('Error Occured : ',e)",
      "metadata": {
        "trusted": true
      },
      "execution_count": 4,
      "outputs": [
        {
          "name": "stdout",
          "text": "mine_run(['-->', '-->', '-->', '<--', '<--', '<--']) ➞ True\nmine_run(['-->', '<--', '-->', '-->', '<-->', '---']) ➞ 1\n",
          "output_type": "stream"
        }
      ]
    },
    {
      "cell_type": "markdown",
      "source": "Q.5 : Make a Rectangle class with four parameters, an x, a y (representing the top-left corner of the rectangle), a width and a height exclusively in that order.\nLastly, make a function intersecting that takes two Rectangle objects and returns True if those objects are intersecting (colliding), else return False.",
      "metadata": {}
    },
    {
      "cell_type": "code",
      "source": "# Solution 5\n\nclass Rectangle:\n    def __init__(self,x,y,width,height):\n        self.x = x\n        self.y = y\n        self.width = width\n        self.height = height\n        \ndef intersecting(RectangleObj1,RectangleObj2):\n    try:\n        Result = False\n        if (RectangleObj2.y-RectangleObj1.y == RectangleObj1.height) or (RectangleObj2.y-RectangleObj1.y + RectangleObj1.height == RectangleObj2.height):\n            Result = True\n        return Result\n    except Exception as e:\n        print('Error Occured : ',e)\n\ntry:\n    \n    a = Rectangle(10, 20, 100, 20)\n    b = Rectangle(10, 40, 15, 20)\n    c = Rectangle(50, 50, 20, 30)\n    print(f'intersecting(a, b) ➞ {intersecting(a, b)}')\n    print(f'intersecting(a, c) ➞ {intersecting(a, c)}')\n    print(f'intersecting(b, c) ➞ {intersecting(b, c)}')\n    \nexcept Exception as e:\n    print('Error Occured : ',e)",
      "metadata": {
        "trusted": true
      },
      "execution_count": 5,
      "outputs": [
        {
          "name": "stdout",
          "text": "intersecting(a, b) ➞ True\nintersecting(a, c) ➞ False\nintersecting(b, c) ➞ True\n",
          "output_type": "stream"
        }
      ]
    },
    {
      "cell_type": "code",
      "source": "",
      "metadata": {},
      "execution_count": null,
      "outputs": []
    }
  ]
}