{
  "metadata": {
    "language_info": {
      "codemirror_mode": {
        "name": "python",
        "version": 3
      },
      "file_extension": ".py",
      "mimetype": "text/x-python",
      "name": "python",
      "nbconvert_exporter": "python",
      "pygments_lexer": "ipython3",
      "version": "3.8"
    },
    "kernelspec": {
      "name": "python",
      "display_name": "Pyolite",
      "language": "python"
    }
  },
  "nbformat_minor": 4,
  "nbformat": 4,
  "cells": [
    {
      "cell_type": "code",
      "source": "#Solution 1\n\ndef checker_board(BoardSize,Element1,Element2):\n    '''This function will Create a checker board generator, which takes as inputs n and 2 elements\n       to generate an n x n checkerboard with those two elements as alternating squares.\n    '''\n    try:\n        if Element1 != Element2:\n            ElementList = [Element1,Element2]\n            Result = []\n            for i in range(BoardSize):\n                Result.append([])\n                for j in range(BoardSize):\n                    #print(ElementList[(i+j)%2])\n                    Result[i].append(ElementList[(i+j)%2])\n        else:\n            Result = 'invalid'\n            \n        print(f'checker_board{BoardSize,Element1,Element2} ➞ {Result}')\n        \n    except Exception as e:\n        print('Error Occured : ',e)\n        \nchecker_board(2, 7, 6)\nchecker_board(3, \"A\", \"B\")\nchecker_board(4, \"c\", \"d\")\nchecker_board(4, \"c\", \"c\")",
      "metadata": {
        "trusted": true
      },
      "execution_count": 1,
      "outputs": [
        {
          "name": "stdout",
          "text": "checker_board(2, 7, 6) ➞ [[7, 6], [6, 7]]\nchecker_board(3, 'A', 'B') ➞ [['A', 'B', 'A'], ['B', 'A', 'B'], ['A', 'B', 'A']]\nchecker_board(4, 'c', 'd') ➞ [['c', 'd', 'c', 'd'], ['d', 'c', 'd', 'c'], ['c', 'd', 'c', 'd'], ['d', 'c', 'd', 'c']]\nchecker_board(4, 'c', 'c') ➞ invalid\n",
          "output_type": "stream"
        }
      ]
    },
    {
      "cell_type": "code",
      "source": "#Solution 2\n\ndef almost_palindrome(String):\n    '''This function will take a string input.\n       A string is an almost-palindrome if, by changing only one character, you can make it a palindrome. \n       This function will returns True if a string is an almost-palindrome and False otherwise.\n    '''\n    try:\n        ReverseString = String[::-1]\n        Loop = len(String)-2 if type(len(String)/2) !=int else len(String)-1\n        NotMatched = 0\n        for i in range(Loop):\n            if String[i] != ReverseString[i]:\n                NotMatched = NotMatched+1\n        Result = False if NotMatched > 1 else True\n            \n            \n        print(f'almost_palindrome({String}) ➞ {Result}')\n        \n    except Exception as e:\n        print('Error Occured : ',e)\n        \nalmost_palindrome(\"abcdcbg\")\nalmost_palindrome(\"abccia\")\nalmost_palindrome(\"abcdaaa\")\nalmost_palindrome(\"1234312\")",
      "metadata": {
        "trusted": true
      },
      "execution_count": 3,
      "outputs": [
        {
          "name": "stdout",
          "text": "almost_palindrome(abcdcbg) ➞ True\nalmost_palindrome(abccia) ➞ True\nalmost_palindrome(abcdaaa) ➞ False\nalmost_palindrome(1234312) ➞ False\n",
          "output_type": "stream"
        }
      ]
    },
    {
      "cell_type": "code",
      "source": "#Solution 3\n\ndef prime_numbers(Num):\n    '''This function will take a Integer input.\n       It finds how many prime numbers there are, up to the given integer.\n    '''\n    try:\n        PrimeNumbers = 0\n        for i in range(0,Num+1):\n            if i>1:\n                for j in range(2,i):\n                    if (i%j) == 0:\n                        break\n                else:\n                    PrimeNumbers = PrimeNumbers+1\n            \n            \n        print(f'prime_numbers({Num}) ➞ {PrimeNumbers}')\n        \n    except Exception as e:\n        print('Error Occured : ',e)\n        \nprime_numbers(10)\nprime_numbers(20)\nprime_numbers(30)",
      "metadata": {
        "trusted": true
      },
      "execution_count": 4,
      "outputs": [
        {
          "name": "stdout",
          "text": "prime_numbers(10) ➞ 4\nprime_numbers(20) ➞ 8\nprime_numbers(30) ➞ 10\n",
          "output_type": "stream"
        }
      ]
    },
    {
      "cell_type": "code",
      "source": "#Solution 4\n\ndef after_n_days(ListOfDays,DayIncrement):\n    '''This function will take 2 input(List,Integer).\n       This function takes in a list of days as input and the number of days to increment by. \n       Return a list of days after n number of days has passed.\n    '''\n    try:\n        DayList = ['Monday','Tuesday','Wednesday','Thursday','Friday','Saturday','Sunday']\n        Result = []\n        \n        for i in range(len(ListOfDays)):\n            for j in range(len(DayList)):\n                if ListOfDays[i] == DayList[j]:\n                    Result.append(DayList[(j+DayIncrement)%7])\n            \n        print(f'after_n_days{ListOfDays,DayIncrement} ➞ {Result}')\n        \n    except Exception as e:\n        print('Error Occured : ',e)\n        \nafter_n_days([\"Thursday\", \"Monday\"], 4)\nafter_n_days([\"Sunday\", \"Sunday\", \"Sunday\"], 1)\nafter_n_days([\"Monday\", \"Tuesday\", \"Friday\"], 1)",
      "metadata": {
        "trusted": true
      },
      "execution_count": 5,
      "outputs": [
        {
          "name": "stdout",
          "text": "after_n_days(['Thursday', 'Monday'], 4) ➞ ['Monday', 'Friday']\nafter_n_days(['Sunday', 'Sunday', 'Sunday'], 1) ➞ ['Monday', 'Monday', 'Monday']\nafter_n_days(['Monday', 'Tuesday', 'Friday'], 1) ➞ ['Tuesday', 'Wednesday', 'Saturday']\n",
          "output_type": "stream"
        }
      ]
    },
    {
      "cell_type": "code",
      "source": "#Solution 5\n\ndef is_correct_aliases(UserList,UserAliasList):\n    '''This function will take 2 input(List,List).\n       It determines if the list of users is mapped to a list of anonymous names correctly.\n    '''\n    try:\n        \n        IsCorrectAliases = True\n        for i in range(len(UserList)):\n            if not (UserAliasList[i].split()[0].startswith(UserList[i][0]) and UserAliasList[i].split()[1].startswith(UserList[i][0])):\n                IsCorrectAliases = False\n                break\n            \n        print(f'is_correct_aliases{UserList,UserAliasList} ➞ {IsCorrectAliases}')\n        \n    except Exception as e:\n        print('Error Occured : ',e)\n        \nis_correct_aliases([\"Adrian M.\", \"Harriet S.\", \"Mandy T.\"], [\"Amazing Artichoke\", \"Hopeful Hedgehog\", \"Marvelous Mouse\"])\nis_correct_aliases([\"Rachel F.\", \"Pam G.\", \"Fred Z.\", \"Nancy K.\"], [\"Reassuring Rat\", \"Peaceful Panda\", \"Fantastic Frog\", \"Notable Nickel\"])\nis_correct_aliases([\"Beth T.\"], [\"Brandishing Mimosa\"])",
      "metadata": {
        "trusted": true
      },
      "execution_count": 6,
      "outputs": [
        {
          "name": "stdout",
          "text": "is_correct_aliases(['Adrian M.', 'Harriet S.', 'Mandy T.'], ['Amazing Artichoke', 'Hopeful Hedgehog', 'Marvelous Mouse']) ➞ True\nis_correct_aliases(['Rachel F.', 'Pam G.', 'Fred Z.', 'Nancy K.'], ['Reassuring Rat', 'Peaceful Panda', 'Fantastic Frog', 'Notable Nickel']) ➞ True\nis_correct_aliases(['Beth T.'], ['Brandishing Mimosa']) ➞ False\n",
          "output_type": "stream"
        }
      ]
    },
    {
      "cell_type": "code",
      "source": "",
      "metadata": {},
      "execution_count": null,
      "outputs": []
    }
  ]
}